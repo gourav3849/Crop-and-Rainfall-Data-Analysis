{
 "cells": [
  {
   "cell_type": "code",
   "execution_count": 86,
   "metadata": {},
   "outputs": [],
   "source": [
    "import numpy as np\n",
    "import pandas as pd\n",
    "import matplotlib.pyplot as plt\n",
    "%matplotlib inline\n",
    "import seaborn as sns\n",
    "from sklearn.linear_model import LinearRegression\n",
    "from sklearn.preprocessing import StandardScaler\n",
    "from sklearn import model_selection\n",
    "import statsmodels.formula.api as smf"
   ]
  },
  {
   "cell_type": "code",
   "execution_count": 87,
   "metadata": {},
   "outputs": [],
   "source": [
    "import warnings\n",
    "warnings.filterwarnings(action='ignore')"
   ]
  },
  {
   "cell_type": "code",
   "execution_count": 3,
   "metadata": {},
   "outputs": [],
   "source": [
    "df1=pd.read_excel('Data Set (1).xlsx',sheet_name=['Crop_production1'])"
   ]
  },
  {
   "cell_type": "code",
   "execution_count": 4,
   "metadata": {},
   "outputs": [],
   "source": [
    "df_crop=df1['Crop_production1'].copy()"
   ]
  },
  {
   "cell_type": "code",
   "execution_count": 5,
   "metadata": {},
   "outputs": [],
   "source": [
    "df_crop.set_index('Sno',inplace=True)"
   ]
  },
  {
   "cell_type": "code",
   "execution_count": 6,
   "metadata": {},
   "outputs": [
    {
     "data": {
      "text/plain": [
       "Index(['State_Name', 'District_Name', 'Crop_Year', 'Season', 'Crop', 'Area',\n",
       "       'Production', 'Unnamed: 8', 'Sno.1', 'Unnamed: 10', 'State_Name.1',\n",
       "       'District_Name.1', 'Crop_Year.1', 'Season.1', 'Crop.1', 'Area.1',\n",
       "       'Production.1'],\n",
       "      dtype='object')"
      ]
     },
     "execution_count": 6,
     "metadata": {},
     "output_type": "execute_result"
    }
   ],
   "source": [
    "df_crop.columns"
   ]
  },
  {
   "cell_type": "code",
   "execution_count": 7,
   "metadata": {},
   "outputs": [],
   "source": [
    "df1=df_crop[['State_Name', 'District_Name', 'Crop_Year', 'Season', 'Crop', 'Area',\n",
    "       'Production']]"
   ]
  },
  {
   "cell_type": "code",
   "execution_count": 8,
   "metadata": {},
   "outputs": [
    {
     "data": {
      "text/html": [
       "<div>\n",
       "<style scoped>\n",
       "    .dataframe tbody tr th:only-of-type {\n",
       "        vertical-align: middle;\n",
       "    }\n",
       "\n",
       "    .dataframe tbody tr th {\n",
       "        vertical-align: top;\n",
       "    }\n",
       "\n",
       "    .dataframe thead th {\n",
       "        text-align: right;\n",
       "    }\n",
       "</style>\n",
       "<table border=\"1\" class=\"dataframe\">\n",
       "  <thead>\n",
       "    <tr style=\"text-align: right;\">\n",
       "      <th></th>\n",
       "      <th>State_Name</th>\n",
       "      <th>District_Name</th>\n",
       "      <th>Crop_Year</th>\n",
       "      <th>Season</th>\n",
       "      <th>Crop</th>\n",
       "      <th>Area</th>\n",
       "      <th>Production</th>\n",
       "    </tr>\n",
       "    <tr>\n",
       "      <th>Sno</th>\n",
       "      <th></th>\n",
       "      <th></th>\n",
       "      <th></th>\n",
       "      <th></th>\n",
       "      <th></th>\n",
       "      <th></th>\n",
       "      <th></th>\n",
       "    </tr>\n",
       "  </thead>\n",
       "  <tbody>\n",
       "    <tr>\n",
       "      <th>1</th>\n",
       "      <td>Andaman and Nicobar Islands</td>\n",
       "      <td>NICOBARS</td>\n",
       "      <td>2000</td>\n",
       "      <td>Kharif</td>\n",
       "      <td>Arecanut</td>\n",
       "      <td>1254.0</td>\n",
       "      <td>2000.0</td>\n",
       "    </tr>\n",
       "    <tr>\n",
       "      <th>2</th>\n",
       "      <td>Andaman and Nicobar Islands</td>\n",
       "      <td>NICOBARS</td>\n",
       "      <td>2000</td>\n",
       "      <td>Kharif</td>\n",
       "      <td>Other Kharif pulses</td>\n",
       "      <td>2.0</td>\n",
       "      <td>1.0</td>\n",
       "    </tr>\n",
       "    <tr>\n",
       "      <th>3</th>\n",
       "      <td>Andaman and Nicobar Islands</td>\n",
       "      <td>NICOBARS</td>\n",
       "      <td>2000</td>\n",
       "      <td>Kharif</td>\n",
       "      <td>Rice</td>\n",
       "      <td>102.0</td>\n",
       "      <td>321.0</td>\n",
       "    </tr>\n",
       "    <tr>\n",
       "      <th>4</th>\n",
       "      <td>Andaman and Nicobar Islands</td>\n",
       "      <td>NICOBARS</td>\n",
       "      <td>2000</td>\n",
       "      <td>Whole Year</td>\n",
       "      <td>Banana</td>\n",
       "      <td>176.0</td>\n",
       "      <td>641.0</td>\n",
       "    </tr>\n",
       "    <tr>\n",
       "      <th>5</th>\n",
       "      <td>Andaman and Nicobar Islands</td>\n",
       "      <td>NICOBARS</td>\n",
       "      <td>2000</td>\n",
       "      <td>Whole Year</td>\n",
       "      <td>Cashewnut</td>\n",
       "      <td>720.0</td>\n",
       "      <td>165.0</td>\n",
       "    </tr>\n",
       "  </tbody>\n",
       "</table>\n",
       "</div>"
      ],
      "text/plain": [
       "                      State_Name District_Name  Crop_Year      Season  \\\n",
       "Sno                                                                     \n",
       "1    Andaman and Nicobar Islands      NICOBARS       2000      Kharif   \n",
       "2    Andaman and Nicobar Islands      NICOBARS       2000      Kharif   \n",
       "3    Andaman and Nicobar Islands      NICOBARS       2000      Kharif   \n",
       "4    Andaman and Nicobar Islands      NICOBARS       2000  Whole Year   \n",
       "5    Andaman and Nicobar Islands      NICOBARS       2000  Whole Year   \n",
       "\n",
       "                    Crop    Area  Production  \n",
       "Sno                                           \n",
       "1               Arecanut  1254.0      2000.0  \n",
       "2    Other Kharif pulses     2.0         1.0  \n",
       "3                   Rice   102.0       321.0  \n",
       "4                 Banana   176.0       641.0  \n",
       "5              Cashewnut   720.0       165.0  "
      ]
     },
     "execution_count": 8,
     "metadata": {},
     "output_type": "execute_result"
    }
   ],
   "source": [
    "df1.head()"
   ]
  },
  {
   "cell_type": "code",
   "execution_count": 33,
   "metadata": {},
   "outputs": [
    {
     "data": {
      "text/plain": [
       "(191619, 7)"
      ]
     },
     "execution_count": 33,
     "metadata": {},
     "output_type": "execute_result"
    }
   ],
   "source": [
    "df1.shape"
   ]
  },
  {
   "cell_type": "code",
   "execution_count": null,
   "metadata": {},
   "outputs": [],
   "source": [
    "# There are 191619 rows in 1st half ofdata set and 7 columns"
   ]
  },
  {
   "cell_type": "code",
   "execution_count": 23,
   "metadata": {},
   "outputs": [
    {
     "data": {
      "text/plain": [
       "State_Name          0\n",
       "District_Name       0\n",
       "Crop_Year           0\n",
       "Season              0\n",
       "Crop                0\n",
       "Area                0\n",
       "Production       3472\n",
       "dtype: int64"
      ]
     },
     "execution_count": 23,
     "metadata": {},
     "output_type": "execute_result"
    }
   ],
   "source": [
    "df1.isnull().sum()"
   ]
  },
  {
   "cell_type": "code",
   "execution_count": 9,
   "metadata": {},
   "outputs": [],
   "source": [
    "df2=pd.DataFrame(np.array(df_crop.iloc[:,10:17]),columns=['State_Name', 'District_Name', 'Crop_Year', 'Season', 'Crop', 'Area',\n",
    "       'Production'])"
   ]
  },
  {
   "cell_type": "code",
   "execution_count": 10,
   "metadata": {},
   "outputs": [
    {
     "data": {
      "text/html": [
       "<div>\n",
       "<style scoped>\n",
       "    .dataframe tbody tr th:only-of-type {\n",
       "        vertical-align: middle;\n",
       "    }\n",
       "\n",
       "    .dataframe tbody tr th {\n",
       "        vertical-align: top;\n",
       "    }\n",
       "\n",
       "    .dataframe thead th {\n",
       "        text-align: right;\n",
       "    }\n",
       "</style>\n",
       "<table border=\"1\" class=\"dataframe\">\n",
       "  <thead>\n",
       "    <tr style=\"text-align: right;\">\n",
       "      <th></th>\n",
       "      <th>State_Name</th>\n",
       "      <th>District_Name</th>\n",
       "      <th>Crop_Year</th>\n",
       "      <th>Season</th>\n",
       "      <th>Crop</th>\n",
       "      <th>Area</th>\n",
       "      <th>Production</th>\n",
       "    </tr>\n",
       "  </thead>\n",
       "  <tbody>\n",
       "    <tr>\n",
       "      <th>0</th>\n",
       "      <td>Telangana</td>\n",
       "      <td>NIZAMABAD</td>\n",
       "      <td>1998</td>\n",
       "      <td>Kharif</td>\n",
       "      <td>Arhar/Tur</td>\n",
       "      <td>2200</td>\n",
       "      <td>800</td>\n",
       "    </tr>\n",
       "    <tr>\n",
       "      <th>1</th>\n",
       "      <td>Telangana</td>\n",
       "      <td>NIZAMABAD</td>\n",
       "      <td>1998</td>\n",
       "      <td>Kharif</td>\n",
       "      <td>Castor seed</td>\n",
       "      <td>200</td>\n",
       "      <td>100</td>\n",
       "    </tr>\n",
       "    <tr>\n",
       "      <th>2</th>\n",
       "      <td>Telangana</td>\n",
       "      <td>NIZAMABAD</td>\n",
       "      <td>1998</td>\n",
       "      <td>Kharif</td>\n",
       "      <td>Cotton(lint)</td>\n",
       "      <td>20000</td>\n",
       "      <td>28500</td>\n",
       "    </tr>\n",
       "    <tr>\n",
       "      <th>3</th>\n",
       "      <td>Telangana</td>\n",
       "      <td>NIZAMABAD</td>\n",
       "      <td>1998</td>\n",
       "      <td>Kharif</td>\n",
       "      <td>Groundnut</td>\n",
       "      <td>300</td>\n",
       "      <td>400</td>\n",
       "    </tr>\n",
       "    <tr>\n",
       "      <th>4</th>\n",
       "      <td>Telangana</td>\n",
       "      <td>NIZAMABAD</td>\n",
       "      <td>1998</td>\n",
       "      <td>Kharif</td>\n",
       "      <td>Jowar</td>\n",
       "      <td>3400</td>\n",
       "      <td>2000</td>\n",
       "    </tr>\n",
       "  </tbody>\n",
       "</table>\n",
       "</div>"
      ],
      "text/plain": [
       "  State_Name District_Name Crop_Year  Season          Crop   Area Production\n",
       "0  Telangana     NIZAMABAD      1998  Kharif     Arhar/Tur   2200        800\n",
       "1  Telangana     NIZAMABAD      1998  Kharif   Castor seed    200        100\n",
       "2  Telangana     NIZAMABAD      1998  Kharif  Cotton(lint)  20000      28500\n",
       "3  Telangana     NIZAMABAD      1998  Kharif     Groundnut    300        400\n",
       "4  Telangana     NIZAMABAD      1998  Kharif         Jowar   3400       2000"
      ]
     },
     "execution_count": 10,
     "metadata": {},
     "output_type": "execute_result"
    }
   ],
   "source": [
    "df2.head()"
   ]
  },
  {
   "cell_type": "code",
   "execution_count": 28,
   "metadata": {},
   "outputs": [
    {
     "data": {
      "text/plain": [
       "State_Name         0\n",
       "District_Name      0\n",
       "Crop_Year          0\n",
       "Season             0\n",
       "Crop               0\n",
       "Area               0\n",
       "Production       258\n",
       "dtype: int64"
      ]
     },
     "execution_count": 28,
     "metadata": {},
     "output_type": "execute_result"
    }
   ],
   "source": [
    "df2.dropna(how='all').isnull().sum()"
   ]
  },
  {
   "cell_type": "code",
   "execution_count": 13,
   "metadata": {},
   "outputs": [
    {
     "data": {
      "text/plain": [
       "State_Name       137147\n",
       "District_Name    137147\n",
       "Crop_Year        137147\n",
       "Season           137147\n",
       "Crop             137147\n",
       "Area             137147\n",
       "Production       140877\n",
       "dtype: int64"
      ]
     },
     "execution_count": 13,
     "metadata": {},
     "output_type": "execute_result"
    }
   ],
   "source": [
    "pd.concat([df1,df2],axis=0).isnull().sum()"
   ]
  },
  {
   "cell_type": "code",
   "execution_count": 18,
   "metadata": {},
   "outputs": [
    {
     "data": {
      "text/plain": [
       "State_Name          0\n",
       "District_Name       0\n",
       "Crop_Year           0\n",
       "Season              0\n",
       "Crop                0\n",
       "Area                0\n",
       "Production       3730\n",
       "dtype: int64"
      ]
     },
     "execution_count": 18,
     "metadata": {},
     "output_type": "execute_result"
    }
   ],
   "source": [
    "pd.concat([df1,df2],axis=0).dropna(how='all').isnull().sum()"
   ]
  },
  {
   "cell_type": "code",
   "execution_count": 21,
   "metadata": {},
   "outputs": [],
   "source": [
    "a=pd.concat([df1,df2],axis=0).dropna(how='all')"
   ]
  },
  {
   "cell_type": "code",
   "execution_count": 34,
   "metadata": {},
   "outputs": [
    {
     "data": {
      "text/plain": [
       "(246091, 7)"
      ]
     },
     "execution_count": 34,
     "metadata": {},
     "output_type": "execute_result"
    }
   ],
   "source": [
    "a.shape"
   ]
  },
  {
   "cell_type": "code",
   "execution_count": 22,
   "metadata": {},
   "outputs": [
    {
     "data": {
      "text/html": [
       "<div>\n",
       "<style scoped>\n",
       "    .dataframe tbody tr th:only-of-type {\n",
       "        vertical-align: middle;\n",
       "    }\n",
       "\n",
       "    .dataframe tbody tr th {\n",
       "        vertical-align: top;\n",
       "    }\n",
       "\n",
       "    .dataframe thead th {\n",
       "        text-align: right;\n",
       "    }\n",
       "</style>\n",
       "<table border=\"1\" class=\"dataframe\">\n",
       "  <thead>\n",
       "    <tr style=\"text-align: right;\">\n",
       "      <th></th>\n",
       "      <th>State_Name</th>\n",
       "      <th>District_Name</th>\n",
       "      <th>Crop_Year</th>\n",
       "      <th>Season</th>\n",
       "      <th>Crop</th>\n",
       "      <th>Area</th>\n",
       "      <th>Production</th>\n",
       "    </tr>\n",
       "  </thead>\n",
       "  <tbody>\n",
       "    <tr>\n",
       "      <th>96</th>\n",
       "      <td>Andaman and Nicobar Islands</td>\n",
       "      <td>NICOBARS</td>\n",
       "      <td>2005</td>\n",
       "      <td>Whole Year</td>\n",
       "      <td>Arecanut</td>\n",
       "      <td>795.67</td>\n",
       "      <td>NaN</td>\n",
       "    </tr>\n",
       "    <tr>\n",
       "      <th>101</th>\n",
       "      <td>Andaman and Nicobar Islands</td>\n",
       "      <td>NICOBARS</td>\n",
       "      <td>2005</td>\n",
       "      <td>Whole Year</td>\n",
       "      <td>Dry chillies</td>\n",
       "      <td>17</td>\n",
       "      <td>NaN</td>\n",
       "    </tr>\n",
       "    <tr>\n",
       "      <th>673</th>\n",
       "      <td>Andhra Pradesh</td>\n",
       "      <td>KADAPA</td>\n",
       "      <td>1998</td>\n",
       "      <td>Rabi</td>\n",
       "      <td>Wheat</td>\n",
       "      <td>100</td>\n",
       "      <td>NaN</td>\n",
       "    </tr>\n",
       "    <tr>\n",
       "      <th>709</th>\n",
       "      <td>Andhra Pradesh</td>\n",
       "      <td>KURNOOL</td>\n",
       "      <td>1998</td>\n",
       "      <td>Kharif</td>\n",
       "      <td>Other Kharif pulses</td>\n",
       "      <td>100</td>\n",
       "      <td>NaN</td>\n",
       "    </tr>\n",
       "    <tr>\n",
       "      <th>711</th>\n",
       "      <td>Andhra Pradesh</td>\n",
       "      <td>KURNOOL</td>\n",
       "      <td>1998</td>\n",
       "      <td>Kharif</td>\n",
       "      <td>Sesamum</td>\n",
       "      <td>100</td>\n",
       "      <td>NaN</td>\n",
       "    </tr>\n",
       "    <tr>\n",
       "      <th>...</th>\n",
       "      <td>...</td>\n",
       "      <td>...</td>\n",
       "      <td>...</td>\n",
       "      <td>...</td>\n",
       "      <td>...</td>\n",
       "      <td>...</td>\n",
       "      <td>...</td>\n",
       "    </tr>\n",
       "    <tr>\n",
       "      <th>51216</th>\n",
       "      <td>West Bengal</td>\n",
       "      <td>HOOGHLY</td>\n",
       "      <td>2008</td>\n",
       "      <td>Rabi</td>\n",
       "      <td>Arhar/Tur</td>\n",
       "      <td>1</td>\n",
       "      <td>NaN</td>\n",
       "    </tr>\n",
       "    <tr>\n",
       "      <th>51490</th>\n",
       "      <td>West Bengal</td>\n",
       "      <td>PURULIA</td>\n",
       "      <td>2008</td>\n",
       "      <td>Rabi</td>\n",
       "      <td>Khesari</td>\n",
       "      <td>2</td>\n",
       "      <td>NaN</td>\n",
       "    </tr>\n",
       "    <tr>\n",
       "      <th>51567</th>\n",
       "      <td>West Bengal</td>\n",
       "      <td>BANKURA</td>\n",
       "      <td>2009</td>\n",
       "      <td>Kharif</td>\n",
       "      <td>Urad</td>\n",
       "      <td>2</td>\n",
       "      <td>NaN</td>\n",
       "    </tr>\n",
       "    <tr>\n",
       "      <th>52398</th>\n",
       "      <td>West Bengal</td>\n",
       "      <td>MEDINIPUR WEST</td>\n",
       "      <td>2010</td>\n",
       "      <td>Rabi</td>\n",
       "      <td>Peas &amp; beans (Pulses)</td>\n",
       "      <td>2</td>\n",
       "      <td>NaN</td>\n",
       "    </tr>\n",
       "    <tr>\n",
       "      <th>53051</th>\n",
       "      <td>West Bengal</td>\n",
       "      <td>BANKURA</td>\n",
       "      <td>2012</td>\n",
       "      <td>Rabi</td>\n",
       "      <td>Linseed</td>\n",
       "      <td>1</td>\n",
       "      <td>NaN</td>\n",
       "    </tr>\n",
       "  </tbody>\n",
       "</table>\n",
       "<p>3730 rows × 7 columns</p>\n",
       "</div>"
      ],
      "text/plain": [
       "                        State_Name   District_Name Crop_Year      Season  \\\n",
       "96     Andaman and Nicobar Islands        NICOBARS      2005  Whole Year   \n",
       "101    Andaman and Nicobar Islands        NICOBARS      2005  Whole Year   \n",
       "673                 Andhra Pradesh          KADAPA      1998        Rabi   \n",
       "709                 Andhra Pradesh         KURNOOL      1998      Kharif   \n",
       "711                 Andhra Pradesh         KURNOOL      1998      Kharif   \n",
       "...                            ...             ...       ...         ...   \n",
       "51216                  West Bengal         HOOGHLY      2008        Rabi   \n",
       "51490                  West Bengal         PURULIA      2008        Rabi   \n",
       "51567                  West Bengal         BANKURA      2009      Kharif   \n",
       "52398                  West Bengal  MEDINIPUR WEST      2010        Rabi   \n",
       "53051                  West Bengal         BANKURA      2012        Rabi   \n",
       "\n",
       "                        Crop    Area Production  \n",
       "96                  Arecanut  795.67        NaN  \n",
       "101             Dry chillies      17        NaN  \n",
       "673                    Wheat     100        NaN  \n",
       "709      Other Kharif pulses     100        NaN  \n",
       "711                  Sesamum     100        NaN  \n",
       "...                      ...     ...        ...  \n",
       "51216              Arhar/Tur       1        NaN  \n",
       "51490                Khesari       2        NaN  \n",
       "51567                   Urad       2        NaN  \n",
       "52398  Peas & beans (Pulses)       2        NaN  \n",
       "53051                Linseed       1        NaN  \n",
       "\n",
       "[3730 rows x 7 columns]"
      ]
     },
     "execution_count": 22,
     "metadata": {},
     "output_type": "execute_result"
    }
   ],
   "source": [
    "a[a['Production'].isnull()]"
   ]
  },
  {
   "cell_type": "code",
   "execution_count": 31,
   "metadata": {},
   "outputs": [
    {
     "data": {
      "text/plain": [
       "State_Name                   District_Name \n",
       "Andaman and Nicobar Islands  NICOBARS          2\n",
       "Andhra Pradesh               ANANTAPUR         4\n",
       "                             CHITTOOR          7\n",
       "                             EAST GODAVARI     9\n",
       "                             GUNTUR            3\n",
       "                                              ..\n",
       "West Bengal                  HOOGHLY           1\n",
       "                             JALPAIGURI        1\n",
       "                             MEDINIPUR WEST    2\n",
       "                             MURSHIDABAD       1\n",
       "                             PURULIA           3\n",
       "Name: District_Name, Length: 412, dtype: int64"
      ]
     },
     "execution_count": 31,
     "metadata": {},
     "output_type": "execute_result"
    }
   ],
   "source": [
    "a[a['Production'].isnull()].groupby(['State_Name','District_Name'])['District_Name'].count()"
   ]
  },
  {
   "cell_type": "code",
   "execution_count": null,
   "metadata": {},
   "outputs": [],
   "source": [
    "# Total no of districts that have null values in Production. "
   ]
  },
  {
   "cell_type": "code",
   "execution_count": 32,
   "metadata": {},
   "outputs": [
    {
     "data": {
      "text/plain": [
       "State_Name\n",
       "Andaman and Nicobar Islands       2\n",
       "Andhra Pradesh                   67\n",
       "Arunachal Pradesh                 1\n",
       "Assam                             6\n",
       "Bihar                            11\n",
       "Chandigarh                        1\n",
       "Chhattisgarh                    341\n",
       "Goa                               1\n",
       "Gujarat                          71\n",
       "Haryana                        1335\n",
       "Himachal Pradesh                 38\n",
       "Jammu and Kashmir                 2\n",
       "Karnataka                        43\n",
       "Kerala                          258\n",
       "Madhya Pradesh                  339\n",
       "Maharashtra                     132\n",
       "Manipur                           1\n",
       "Mizoram                           3\n",
       "Nagaland                          2\n",
       "Odisha                           51\n",
       "Puducherry                        4\n",
       "Punjab                           30\n",
       "Rajasthan                       448\n",
       "Tamil Nadu                      281\n",
       "Telangana                        58\n",
       "Uttar Pradesh                   117\n",
       "Uttarakhand                      71\n",
       "West Bengal                      16\n",
       "Name: District_Name, dtype: int64"
      ]
     },
     "execution_count": 32,
     "metadata": {},
     "output_type": "execute_result"
    }
   ],
   "source": [
    "a[a['Production'].isnull()].groupby(['State_Name'])['District_Name'].count()"
   ]
  },
  {
   "cell_type": "code",
   "execution_count": 35,
   "metadata": {},
   "outputs": [],
   "source": [
    "df_crop=pd.concat([df1,df2],axis=0).dropna(how='all').reset_index(drop=True)"
   ]
  },
  {
   "cell_type": "code",
   "execution_count": 36,
   "metadata": {},
   "outputs": [
    {
     "data": {
      "text/html": [
       "<div>\n",
       "<style scoped>\n",
       "    .dataframe tbody tr th:only-of-type {\n",
       "        vertical-align: middle;\n",
       "    }\n",
       "\n",
       "    .dataframe tbody tr th {\n",
       "        vertical-align: top;\n",
       "    }\n",
       "\n",
       "    .dataframe thead th {\n",
       "        text-align: right;\n",
       "    }\n",
       "</style>\n",
       "<table border=\"1\" class=\"dataframe\">\n",
       "  <thead>\n",
       "    <tr style=\"text-align: right;\">\n",
       "      <th></th>\n",
       "      <th>State_Name</th>\n",
       "      <th>District_Name</th>\n",
       "      <th>Crop_Year</th>\n",
       "      <th>Season</th>\n",
       "      <th>Crop</th>\n",
       "      <th>Area</th>\n",
       "      <th>Production</th>\n",
       "    </tr>\n",
       "  </thead>\n",
       "  <tbody>\n",
       "    <tr>\n",
       "      <th>0</th>\n",
       "      <td>Andaman and Nicobar Islands</td>\n",
       "      <td>NICOBARS</td>\n",
       "      <td>2000</td>\n",
       "      <td>Kharif</td>\n",
       "      <td>Arecanut</td>\n",
       "      <td>1254</td>\n",
       "      <td>2000</td>\n",
       "    </tr>\n",
       "    <tr>\n",
       "      <th>1</th>\n",
       "      <td>Andaman and Nicobar Islands</td>\n",
       "      <td>NICOBARS</td>\n",
       "      <td>2000</td>\n",
       "      <td>Kharif</td>\n",
       "      <td>Other Kharif pulses</td>\n",
       "      <td>2</td>\n",
       "      <td>1</td>\n",
       "    </tr>\n",
       "    <tr>\n",
       "      <th>2</th>\n",
       "      <td>Andaman and Nicobar Islands</td>\n",
       "      <td>NICOBARS</td>\n",
       "      <td>2000</td>\n",
       "      <td>Kharif</td>\n",
       "      <td>Rice</td>\n",
       "      <td>102</td>\n",
       "      <td>321</td>\n",
       "    </tr>\n",
       "    <tr>\n",
       "      <th>3</th>\n",
       "      <td>Andaman and Nicobar Islands</td>\n",
       "      <td>NICOBARS</td>\n",
       "      <td>2000</td>\n",
       "      <td>Whole Year</td>\n",
       "      <td>Banana</td>\n",
       "      <td>176</td>\n",
       "      <td>641</td>\n",
       "    </tr>\n",
       "    <tr>\n",
       "      <th>4</th>\n",
       "      <td>Andaman and Nicobar Islands</td>\n",
       "      <td>NICOBARS</td>\n",
       "      <td>2000</td>\n",
       "      <td>Whole Year</td>\n",
       "      <td>Cashewnut</td>\n",
       "      <td>720</td>\n",
       "      <td>165</td>\n",
       "    </tr>\n",
       "  </tbody>\n",
       "</table>\n",
       "</div>"
      ],
      "text/plain": [
       "                    State_Name District_Name Crop_Year      Season  \\\n",
       "0  Andaman and Nicobar Islands      NICOBARS      2000      Kharif   \n",
       "1  Andaman and Nicobar Islands      NICOBARS      2000      Kharif   \n",
       "2  Andaman and Nicobar Islands      NICOBARS      2000      Kharif   \n",
       "3  Andaman and Nicobar Islands      NICOBARS      2000  Whole Year   \n",
       "4  Andaman and Nicobar Islands      NICOBARS      2000  Whole Year   \n",
       "\n",
       "                  Crop  Area Production  \n",
       "0             Arecanut  1254       2000  \n",
       "1  Other Kharif pulses     2          1  \n",
       "2                 Rice   102        321  \n",
       "3               Banana   176        641  \n",
       "4            Cashewnut   720        165  "
      ]
     },
     "execution_count": 36,
     "metadata": {},
     "output_type": "execute_result"
    }
   ],
   "source": [
    "df_crop.head()"
   ]
  },
  {
   "cell_type": "code",
   "execution_count": 37,
   "metadata": {},
   "outputs": [
    {
     "data": {
      "text/plain": [
       "(246091, 7)"
      ]
     },
     "execution_count": 37,
     "metadata": {},
     "output_type": "execute_result"
    }
   ],
   "source": [
    "df_crop.shape"
   ]
  },
  {
   "cell_type": "code",
   "execution_count": 38,
   "metadata": {
    "scrolled": false
   },
   "outputs": [
    {
     "data": {
      "image/png": "[encoded data removed]",
      "text/plain": [
       "<Figure size 1080x1080 with 2 Axes>"
      ]
     },
     "metadata": {
      "needs_background": "light"
     },
     "output_type": "display_data"
    }
   ],
   "source": [
    "plt.figure(figsize=(15,15))\n",
    "sns.heatmap(df_crop.isnull())\n",
    "plt.show()"
   ]
  },
  {
   "cell_type": "code",
   "execution_count": 40,
   "metadata": {},
   "outputs": [],
   "source": [
    "# % of null in the features"
   ]
  },
  {
   "cell_type": "code",
   "execution_count": 39,
   "metadata": {},
   "outputs": [
    {
     "data": {
      "text/plain": [
       "State_Name       0.000000\n",
       "District_Name    0.000000\n",
       "Crop_Year        0.000000\n",
       "Season           0.000000\n",
       "Crop             0.000000\n",
       "Area             0.000000\n",
       "Production       1.515699\n",
       "dtype: float64"
      ]
     },
     "execution_count": 39,
     "metadata": {},
     "output_type": "execute_result"
    }
   ],
   "source": [
    "(df_crop.isnull().sum()/len(df_crop))*100"
   ]
  },
  {
   "cell_type": "code",
   "execution_count": 43,
   "metadata": {},
   "outputs": [
    {
     "data": {
      "text/plain": [
       "1997     8899\n",
       "1998    11533\n",
       "1999    12515\n",
       "2000    13658\n",
       "2001    13361\n",
       "2002    16671\n",
       "2003    17287\n",
       "2004    14117\n",
       "2005    13799\n",
       "2006    14328\n",
       "2007    14526\n",
       "2008    14550\n",
       "2009    14116\n",
       "2010    14065\n",
       "2011    14071\n",
       "2012    13410\n",
       "2013    13650\n",
       "2014    10973\n",
       "2015      562\n",
       "Name: Crop_Year, dtype: int64"
      ]
     },
     "execution_count": 43,
     "metadata": {},
     "output_type": "execute_result"
    }
   ],
   "source": [
    "df_crop['Crop_Year'].value_counts().sort_index()"
   ]
  },
  {
   "cell_type": "code",
   "execution_count": 44,
   "metadata": {},
   "outputs": [],
   "source": [
    "df2=pd.read_excel('Data Set (1).xlsx',sheet_name=['Rainfall'])"
   ]
  },
  {
   "cell_type": "code",
   "execution_count": 65,
   "metadata": {},
   "outputs": [],
   "source": [
    "df_rainfall=df2['Rainfall'].copy()"
   ]
  },
  {
   "cell_type": "code",
   "execution_count": 66,
   "metadata": {},
   "outputs": [
    {
     "data": {
      "text/html": [
       "<div>\n",
       "<style scoped>\n",
       "    .dataframe tbody tr th:only-of-type {\n",
       "        vertical-align: middle;\n",
       "    }\n",
       "\n",
       "    .dataframe tbody tr th {\n",
       "        vertical-align: top;\n",
       "    }\n",
       "\n",
       "    .dataframe thead th {\n",
       "        text-align: right;\n",
       "    }\n",
       "</style>\n",
       "<table border=\"1\" class=\"dataframe\">\n",
       "  <thead>\n",
       "    <tr style=\"text-align: right;\">\n",
       "      <th></th>\n",
       "      <th>STATE_UT_NAME</th>\n",
       "      <th>YEAR</th>\n",
       "      <th>JAN</th>\n",
       "      <th>FEB</th>\n",
       "      <th>MAR</th>\n",
       "      <th>APR</th>\n",
       "      <th>MAY</th>\n",
       "      <th>JUN</th>\n",
       "      <th>JUL</th>\n",
       "      <th>AUG</th>\n",
       "      <th>SEP</th>\n",
       "      <th>OCT</th>\n",
       "      <th>NOV</th>\n",
       "      <th>DEC</th>\n",
       "      <th>ANNUAL</th>\n",
       "      <th>Jan-Feb</th>\n",
       "      <th>Mar-May</th>\n",
       "      <th>Jun-Sep</th>\n",
       "      <th>Oct-Dec</th>\n",
       "    </tr>\n",
       "  </thead>\n",
       "  <tbody>\n",
       "    <tr>\n",
       "      <th>0</th>\n",
       "      <td>ANDAMAN &amp; NICOBAR ISLANDS</td>\n",
       "      <td>1997</td>\n",
       "      <td>9.5</td>\n",
       "      <td>0.0</td>\n",
       "      <td>0.2</td>\n",
       "      <td>15.6</td>\n",
       "      <td>281.1</td>\n",
       "      <td>199.5</td>\n",
       "      <td>918.5</td>\n",
       "      <td>430.6</td>\n",
       "      <td>440.2</td>\n",
       "      <td>128.7</td>\n",
       "      <td>292.8</td>\n",
       "      <td>38.4</td>\n",
       "      <td>2755.1</td>\n",
       "      <td>9.5</td>\n",
       "      <td>296.9</td>\n",
       "      <td>1988.8</td>\n",
       "      <td>459.9</td>\n",
       "    </tr>\n",
       "    <tr>\n",
       "      <th>1</th>\n",
       "      <td>ANDAMAN &amp; NICOBAR ISLANDS</td>\n",
       "      <td>1998</td>\n",
       "      <td>0.9</td>\n",
       "      <td>0.0</td>\n",
       "      <td>0.0</td>\n",
       "      <td>0.0</td>\n",
       "      <td>348.9</td>\n",
       "      <td>600.0</td>\n",
       "      <td>364.5</td>\n",
       "      <td>258.9</td>\n",
       "      <td>337.8</td>\n",
       "      <td>618.6</td>\n",
       "      <td>227.8</td>\n",
       "      <td>89.0</td>\n",
       "      <td>2846.4</td>\n",
       "      <td>0.9</td>\n",
       "      <td>348.9</td>\n",
       "      <td>1561.2</td>\n",
       "      <td>935.4</td>\n",
       "    </tr>\n",
       "    <tr>\n",
       "      <th>2</th>\n",
       "      <td>ANDAMAN &amp; NICOBAR ISLANDS</td>\n",
       "      <td>1999</td>\n",
       "      <td>46.8</td>\n",
       "      <td>44.6</td>\n",
       "      <td>14.2</td>\n",
       "      <td>270.6</td>\n",
       "      <td>257.4</td>\n",
       "      <td>295.0</td>\n",
       "      <td>408.5</td>\n",
       "      <td>329.2</td>\n",
       "      <td>325.3</td>\n",
       "      <td>437.5</td>\n",
       "      <td>124.9</td>\n",
       "      <td>145.7</td>\n",
       "      <td>2699.7</td>\n",
       "      <td>91.4</td>\n",
       "      <td>542.2</td>\n",
       "      <td>1358.0</td>\n",
       "      <td>708.1</td>\n",
       "    </tr>\n",
       "    <tr>\n",
       "      <th>3</th>\n",
       "      <td>ANDAMAN &amp; NICOBAR ISLANDS</td>\n",
       "      <td>2000</td>\n",
       "      <td>53.0</td>\n",
       "      <td>59.0</td>\n",
       "      <td>171.3</td>\n",
       "      <td>218.1</td>\n",
       "      <td>422.8</td>\n",
       "      <td>357.0</td>\n",
       "      <td>176.3</td>\n",
       "      <td>460.8</td>\n",
       "      <td>250.1</td>\n",
       "      <td>321.2</td>\n",
       "      <td>158.3</td>\n",
       "      <td>115.2</td>\n",
       "      <td>2763.2</td>\n",
       "      <td>112.0</td>\n",
       "      <td>812.2</td>\n",
       "      <td>1244.2</td>\n",
       "      <td>594.7</td>\n",
       "    </tr>\n",
       "    <tr>\n",
       "      <th>4</th>\n",
       "      <td>ANDAMAN &amp; NICOBAR ISLANDS</td>\n",
       "      <td>2001</td>\n",
       "      <td>89.0</td>\n",
       "      <td>15.7</td>\n",
       "      <td>143.3</td>\n",
       "      <td>30.1</td>\n",
       "      <td>705.3</td>\n",
       "      <td>370.7</td>\n",
       "      <td>341.3</td>\n",
       "      <td>469.0</td>\n",
       "      <td>334.4</td>\n",
       "      <td>267.6</td>\n",
       "      <td>222.6</td>\n",
       "      <td>91.8</td>\n",
       "      <td>3080.9</td>\n",
       "      <td>104.7</td>\n",
       "      <td>878.7</td>\n",
       "      <td>1515.4</td>\n",
       "      <td>582.0</td>\n",
       "    </tr>\n",
       "  </tbody>\n",
       "</table>\n",
       "</div>"
      ],
      "text/plain": [
       "               STATE_UT_NAME  YEAR   JAN   FEB    MAR    APR    MAY    JUN  \\\n",
       "0  ANDAMAN & NICOBAR ISLANDS  1997   9.5   0.0    0.2   15.6  281.1  199.5   \n",
       "1  ANDAMAN & NICOBAR ISLANDS  1998   0.9   0.0    0.0    0.0  348.9  600.0   \n",
       "2  ANDAMAN & NICOBAR ISLANDS  1999  46.8  44.6   14.2  270.6  257.4  295.0   \n",
       "3  ANDAMAN & NICOBAR ISLANDS  2000  53.0  59.0  171.3  218.1  422.8  357.0   \n",
       "4  ANDAMAN & NICOBAR ISLANDS  2001  89.0  15.7  143.3   30.1  705.3  370.7   \n",
       "\n",
       "     JUL    AUG    SEP    OCT    NOV    DEC  ANNUAL  Jan-Feb  Mar-May  \\\n",
       "0  918.5  430.6  440.2  128.7  292.8   38.4  2755.1      9.5    296.9   \n",
       "1  364.5  258.9  337.8  618.6  227.8   89.0  2846.4      0.9    348.9   \n",
       "2  408.5  329.2  325.3  437.5  124.9  145.7  2699.7     91.4    542.2   \n",
       "3  176.3  460.8  250.1  321.2  158.3  115.2  2763.2    112.0    812.2   \n",
       "4  341.3  469.0  334.4  267.6  222.6   91.8  3080.9    104.7    878.7   \n",
       "\n",
       "   Jun-Sep  Oct-Dec  \n",
       "0   1988.8    459.9  \n",
       "1   1561.2    935.4  \n",
       "2   1358.0    708.1  \n",
       "3   1244.2    594.7  \n",
       "4   1515.4    582.0  "
      ]
     },
     "execution_count": 66,
     "metadata": {},
     "output_type": "execute_result"
    }
   ],
   "source": [
    "df_rainfall.head()"
   ]
  },
  {
   "cell_type": "code",
   "execution_count": 67,
   "metadata": {},
   "outputs": [
    {
     "data": {
      "text/plain": [
       "(684, 19)"
      ]
     },
     "execution_count": 67,
     "metadata": {},
     "output_type": "execute_result"
    }
   ],
   "source": [
    "df_rainfall.shape"
   ]
  },
  {
   "cell_type": "code",
   "execution_count": null,
   "metadata": {},
   "outputs": [],
   "source": []
  },
  {
   "cell_type": "code",
   "execution_count": null,
   "metadata": {},
   "outputs": [],
   "source": []
  },
  {
   "cell_type": "code",
   "execution_count": 68,
   "metadata": {},
   "outputs": [
    {
     "data": {
      "text/html": [
       "<div>\n",
       "<style scoped>\n",
       "    .dataframe tbody tr th:only-of-type {\n",
       "        vertical-align: middle;\n",
       "    }\n",
       "\n",
       "    .dataframe tbody tr th {\n",
       "        vertical-align: top;\n",
       "    }\n",
       "\n",
       "    .dataframe thead th {\n",
       "        text-align: right;\n",
       "    }\n",
       "</style>\n",
       "<table border=\"1\" class=\"dataframe\">\n",
       "  <thead>\n",
       "    <tr style=\"text-align: right;\">\n",
       "      <th></th>\n",
       "      <th>State_Name</th>\n",
       "      <th>District_Name</th>\n",
       "      <th>Crop_Year</th>\n",
       "      <th>Season</th>\n",
       "      <th>Crop</th>\n",
       "      <th>Area</th>\n",
       "      <th>Production</th>\n",
       "    </tr>\n",
       "  </thead>\n",
       "  <tbody>\n",
       "    <tr>\n",
       "      <th>count</th>\n",
       "      <td>246091</td>\n",
       "      <td>246091</td>\n",
       "      <td>246091</td>\n",
       "      <td>246091</td>\n",
       "      <td>246091</td>\n",
       "      <td>246091.0</td>\n",
       "      <td>242361.0</td>\n",
       "    </tr>\n",
       "    <tr>\n",
       "      <th>unique</th>\n",
       "      <td>33</td>\n",
       "      <td>646</td>\n",
       "      <td>19</td>\n",
       "      <td>6</td>\n",
       "      <td>124</td>\n",
       "      <td>38442.0</td>\n",
       "      <td>51627.0</td>\n",
       "    </tr>\n",
       "    <tr>\n",
       "      <th>top</th>\n",
       "      <td>Uttar Pradesh</td>\n",
       "      <td>BIJAPUR</td>\n",
       "      <td>2003</td>\n",
       "      <td>Kharif</td>\n",
       "      <td>Rice</td>\n",
       "      <td>1.0</td>\n",
       "      <td>1.0</td>\n",
       "    </tr>\n",
       "    <tr>\n",
       "      <th>freq</th>\n",
       "      <td>33306</td>\n",
       "      <td>945</td>\n",
       "      <td>17287</td>\n",
       "      <td>95951</td>\n",
       "      <td>15104</td>\n",
       "      <td>4553.0</td>\n",
       "      <td>4028.0</td>\n",
       "    </tr>\n",
       "  </tbody>\n",
       "</table>\n",
       "</div>"
      ],
      "text/plain": [
       "           State_Name District_Name  Crop_Year  Season    Crop      Area  \\\n",
       "count          246091        246091     246091  246091  246091  246091.0   \n",
       "unique             33           646         19       6     124   38442.0   \n",
       "top     Uttar Pradesh       BIJAPUR       2003  Kharif    Rice       1.0   \n",
       "freq            33306           945      17287   95951   15104    4553.0   \n",
       "\n",
       "        Production  \n",
       "count     242361.0  \n",
       "unique     51627.0  \n",
       "top            1.0  \n",
       "freq        4028.0  "
      ]
     },
     "execution_count": 68,
     "metadata": {},
     "output_type": "execute_result"
    }
   ],
   "source": [
    "df_crop.describe()"
   ]
  },
  {
   "cell_type": "code",
   "execution_count": 69,
   "metadata": {},
   "outputs": [
    {
     "name": "stdout",
     "output_type": "stream",
     "text": [
      "<class 'pandas.core.frame.DataFrame'>\n",
      "RangeIndex: 246091 entries, 0 to 246090\n",
      "Data columns (total 7 columns):\n",
      " #   Column         Non-Null Count   Dtype \n",
      "---  ------         --------------   ----- \n",
      " 0   State_Name     246091 non-null  object\n",
      " 1   District_Name  246091 non-null  object\n",
      " 2   Crop_Year      246091 non-null  object\n",
      " 3   Season         246091 non-null  object\n",
      " 4   Crop           246091 non-null  object\n",
      " 5   Area           246091 non-null  object\n",
      " 6   Production     242361 non-null  object\n",
      "dtypes: object(7)\n",
      "memory usage: 13.1+ MB\n"
     ]
    }
   ],
   "source": [
    "df_crop.info()"
   ]
  },
  {
   "cell_type": "code",
   "execution_count": 70,
   "metadata": {},
   "outputs": [],
   "source": [
    "df_crop['Area']=df_crop['Area'].astype('float64')"
   ]
  },
  {
   "cell_type": "code",
   "execution_count": 71,
   "metadata": {},
   "outputs": [],
   "source": [
    "df_crop['Production']=df_crop['Production'].astype('float64')"
   ]
  },
  {
   "cell_type": "code",
   "execution_count": 72,
   "metadata": {},
   "outputs": [
    {
     "name": "stdout",
     "output_type": "stream",
     "text": [
      "<class 'pandas.core.frame.DataFrame'>\n",
      "RangeIndex: 246091 entries, 0 to 246090\n",
      "Data columns (total 7 columns):\n",
      " #   Column         Non-Null Count   Dtype  \n",
      "---  ------         --------------   -----  \n",
      " 0   State_Name     246091 non-null  object \n",
      " 1   District_Name  246091 non-null  object \n",
      " 2   Crop_Year      246091 non-null  object \n",
      " 3   Season         246091 non-null  object \n",
      " 4   Crop           246091 non-null  object \n",
      " 5   Area           246091 non-null  float64\n",
      " 6   Production     242361 non-null  float64\n",
      "dtypes: float64(2), object(5)\n",
      "memory usage: 13.1+ MB\n"
     ]
    }
   ],
   "source": [
    "df_crop.info()"
   ]
  },
  {
   "cell_type": "code",
   "execution_count": 73,
   "metadata": {},
   "outputs": [
    {
     "data": {
      "text/html": [
       "<div>\n",
       "<style scoped>\n",
       "    .dataframe tbody tr th:only-of-type {\n",
       "        vertical-align: middle;\n",
       "    }\n",
       "\n",
       "    .dataframe tbody tr th {\n",
       "        vertical-align: top;\n",
       "    }\n",
       "\n",
       "    .dataframe thead th {\n",
       "        text-align: right;\n",
       "    }\n",
       "</style>\n",
       "<table border=\"1\" class=\"dataframe\">\n",
       "  <thead>\n",
       "    <tr style=\"text-align: right;\">\n",
       "      <th></th>\n",
       "      <th>Area</th>\n",
       "      <th>Production</th>\n",
       "    </tr>\n",
       "  </thead>\n",
       "  <tbody>\n",
       "    <tr>\n",
       "      <th>count</th>\n",
       "      <td>2.460910e+05</td>\n",
       "      <td>2.423610e+05</td>\n",
       "    </tr>\n",
       "    <tr>\n",
       "      <th>mean</th>\n",
       "      <td>1.200282e+04</td>\n",
       "      <td>5.825034e+05</td>\n",
       "    </tr>\n",
       "    <tr>\n",
       "      <th>std</th>\n",
       "      <td>5.052340e+04</td>\n",
       "      <td>1.706581e+07</td>\n",
       "    </tr>\n",
       "    <tr>\n",
       "      <th>min</th>\n",
       "      <td>4.000000e-02</td>\n",
       "      <td>0.000000e+00</td>\n",
       "    </tr>\n",
       "    <tr>\n",
       "      <th>25%</th>\n",
       "      <td>8.000000e+01</td>\n",
       "      <td>8.800000e+01</td>\n",
       "    </tr>\n",
       "    <tr>\n",
       "      <th>50%</th>\n",
       "      <td>5.820000e+02</td>\n",
       "      <td>7.290000e+02</td>\n",
       "    </tr>\n",
       "    <tr>\n",
       "      <th>75%</th>\n",
       "      <td>4.392000e+03</td>\n",
       "      <td>7.023000e+03</td>\n",
       "    </tr>\n",
       "    <tr>\n",
       "      <th>max</th>\n",
       "      <td>8.580100e+06</td>\n",
       "      <td>1.250800e+09</td>\n",
       "    </tr>\n",
       "  </tbody>\n",
       "</table>\n",
       "</div>"
      ],
      "text/plain": [
       "               Area    Production\n",
       "count  2.460910e+05  2.423610e+05\n",
       "mean   1.200282e+04  5.825034e+05\n",
       "std    5.052340e+04  1.706581e+07\n",
       "min    4.000000e-02  0.000000e+00\n",
       "25%    8.000000e+01  8.800000e+01\n",
       "50%    5.820000e+02  7.290000e+02\n",
       "75%    4.392000e+03  7.023000e+03\n",
       "max    8.580100e+06  1.250800e+09"
      ]
     },
     "execution_count": 73,
     "metadata": {},
     "output_type": "execute_result"
    }
   ],
   "source": [
    "df_crop.describe()"
   ]
  },
  {
   "cell_type": "code",
   "execution_count": 74,
   "metadata": {},
   "outputs": [
    {
     "data": {
      "text/html": [
       "<div>\n",
       "<style scoped>\n",
       "    .dataframe tbody tr th:only-of-type {\n",
       "        vertical-align: middle;\n",
       "    }\n",
       "\n",
       "    .dataframe tbody tr th {\n",
       "        vertical-align: top;\n",
       "    }\n",
       "\n",
       "    .dataframe thead th {\n",
       "        text-align: right;\n",
       "    }\n",
       "</style>\n",
       "<table border=\"1\" class=\"dataframe\">\n",
       "  <thead>\n",
       "    <tr style=\"text-align: right;\">\n",
       "      <th></th>\n",
       "      <th>State_Name</th>\n",
       "      <th>District_Name</th>\n",
       "      <th>Crop_Year</th>\n",
       "      <th>Season</th>\n",
       "      <th>Crop</th>\n",
       "    </tr>\n",
       "  </thead>\n",
       "  <tbody>\n",
       "    <tr>\n",
       "      <th>count</th>\n",
       "      <td>246091</td>\n",
       "      <td>246091</td>\n",
       "      <td>246091</td>\n",
       "      <td>246091</td>\n",
       "      <td>246091</td>\n",
       "    </tr>\n",
       "    <tr>\n",
       "      <th>unique</th>\n",
       "      <td>33</td>\n",
       "      <td>646</td>\n",
       "      <td>19</td>\n",
       "      <td>6</td>\n",
       "      <td>124</td>\n",
       "    </tr>\n",
       "    <tr>\n",
       "      <th>top</th>\n",
       "      <td>Uttar Pradesh</td>\n",
       "      <td>BIJAPUR</td>\n",
       "      <td>2003</td>\n",
       "      <td>Kharif</td>\n",
       "      <td>Rice</td>\n",
       "    </tr>\n",
       "    <tr>\n",
       "      <th>freq</th>\n",
       "      <td>33306</td>\n",
       "      <td>945</td>\n",
       "      <td>17287</td>\n",
       "      <td>95951</td>\n",
       "      <td>15104</td>\n",
       "    </tr>\n",
       "  </tbody>\n",
       "</table>\n",
       "</div>"
      ],
      "text/plain": [
       "           State_Name District_Name  Crop_Year  Season    Crop\n",
       "count          246091        246091     246091  246091  246091\n",
       "unique             33           646         19       6     124\n",
       "top     Uttar Pradesh       BIJAPUR       2003  Kharif    Rice\n",
       "freq            33306           945      17287   95951   15104"
      ]
     },
     "execution_count": 74,
     "metadata": {},
     "output_type": "execute_result"
    }
   ],
   "source": [
    "df_crop.describe(include='object')"
   ]
  },
  {
   "cell_type": "code",
   "execution_count": 75,
   "metadata": {},
   "outputs": [
    {
     "data": {
      "text/plain": [
       "State_Name          0\n",
       "District_Name       0\n",
       "Crop_Year           0\n",
       "Season              0\n",
       "Crop                0\n",
       "Area                0\n",
       "Production       3730\n",
       "dtype: int64"
      ]
     },
     "execution_count": 75,
     "metadata": {},
     "output_type": "execute_result"
    }
   ],
   "source": [
    "df_crop.isnull().sum()"
   ]
  },
  {
   "cell_type": "code",
   "execution_count": 76,
   "metadata": {},
   "outputs": [],
   "source": [
    "feature=df_crop.select_dtypes(np.number).columns.tolist()"
   ]
  },
  {
   "cell_type": "code",
   "execution_count": 77,
   "metadata": {},
   "outputs": [
    {
     "data": {
      "image/png": "[encoded data removed]",
      "text/plain": [
       "<Figure size 1080x360 with 2 Axes>"
      ]
     },
     "metadata": {
      "needs_background": "light"
     },
     "output_type": "display_data"
    }
   ],
   "source": [
    "fig, ax = plt.subplots(1,2,figsize=(15,5))\n",
    "for variable,subplot in zip(feature,ax.flatten()):\n",
    "    figplot=sns.boxplot(df_crop[variable],ax=subplot)\n",
    "    figplot.set_xlabel(f\"{variable}\",fontsize=20)\n",
    "\n",
    "plt.tight_layout()\n",
    "plt.show()"
   ]
  },
  {
   "cell_type": "code",
   "execution_count": 78,
   "metadata": {},
   "outputs": [],
   "source": [
    "feature=df_crop.select_dtypes(np.object).columns.tolist()"
   ]
  },
  {
   "cell_type": "code",
   "execution_count": 79,
   "metadata": {},
   "outputs": [
    {
     "data": {
      "image/png": "[encoded data removed]",
      "text/plain": [
       "<Figure size 1080x1080 with 6 Axes>"
      ]
     },
     "metadata": {
      "needs_background": "light"
     },
     "output_type": "display_data"
    }
   ],
   "source": [
    "fig, ax = plt.subplots(3,2,figsize=(15,15))\n",
    "for variable,subplot in zip(feature,ax.flatten()):\n",
    "    figplot=sns.countplot(df_crop[variable],ax=subplot)\n",
    "    figplot.set_xlabel(f\"{variable}\",fontsize=20)\n",
    "\n",
    "plt.tight_layout()\n",
    "plt.show()"
   ]
  },
  {
   "cell_type": "code",
   "execution_count": null,
   "metadata": {},
   "outputs": [],
   "source": []
  },
  {
   "cell_type": "code",
   "execution_count": null,
   "metadata": {},
   "outputs": [],
   "source": []
  },
  {
   "cell_type": "code",
   "execution_count": null,
   "metadata": {},
   "outputs": [],
   "source": []
  },
  {
   "cell_type": "code",
   "execution_count": 80,
   "metadata": {},
   "outputs": [
    {
     "data": {
      "text/html": [
       "<div>\n",
       "<style scoped>\n",
       "    .dataframe tbody tr th:only-of-type {\n",
       "        vertical-align: middle;\n",
       "    }\n",
       "\n",
       "    .dataframe tbody tr th {\n",
       "        vertical-align: top;\n",
       "    }\n",
       "\n",
       "    .dataframe thead th {\n",
       "        text-align: right;\n",
       "    }\n",
       "</style>\n",
       "<table border=\"1\" class=\"dataframe\">\n",
       "  <thead>\n",
       "    <tr style=\"text-align: right;\">\n",
       "      <th></th>\n",
       "      <th>YEAR</th>\n",
       "      <th>JAN</th>\n",
       "      <th>FEB</th>\n",
       "      <th>MAR</th>\n",
       "      <th>APR</th>\n",
       "      <th>MAY</th>\n",
       "      <th>JUN</th>\n",
       "      <th>JUL</th>\n",
       "      <th>AUG</th>\n",
       "      <th>SEP</th>\n",
       "      <th>OCT</th>\n",
       "      <th>NOV</th>\n",
       "      <th>DEC</th>\n",
       "      <th>ANNUAL</th>\n",
       "      <th>Jan-Feb</th>\n",
       "      <th>Mar-May</th>\n",
       "      <th>Jun-Sep</th>\n",
       "      <th>Oct-Dec</th>\n",
       "    </tr>\n",
       "  </thead>\n",
       "  <tbody>\n",
       "    <tr>\n",
       "      <th>count</th>\n",
       "      <td>684.000000</td>\n",
       "      <td>683.000000</td>\n",
       "      <td>683.000000</td>\n",
       "      <td>684.000000</td>\n",
       "      <td>684.000000</td>\n",
       "      <td>684.000000</td>\n",
       "      <td>684.000000</td>\n",
       "      <td>683.000000</td>\n",
       "      <td>684.000000</td>\n",
       "      <td>684.000000</td>\n",
       "      <td>684.000000</td>\n",
       "      <td>683.000000</td>\n",
       "      <td>683.000000</td>\n",
       "      <td>681.000000</td>\n",
       "      <td>682.000000</td>\n",
       "      <td>684.000000</td>\n",
       "      <td>683.000000</td>\n",
       "      <td>683.000000</td>\n",
       "    </tr>\n",
       "    <tr>\n",
       "      <th>mean</th>\n",
       "      <td>2006.000000</td>\n",
       "      <td>15.324744</td>\n",
       "      <td>20.081406</td>\n",
       "      <td>27.990205</td>\n",
       "      <td>44.337719</td>\n",
       "      <td>83.702047</td>\n",
       "      <td>224.167251</td>\n",
       "      <td>323.907906</td>\n",
       "      <td>278.223684</td>\n",
       "      <td>194.161842</td>\n",
       "      <td>94.559211</td>\n",
       "      <td>37.011274</td>\n",
       "      <td>16.125183</td>\n",
       "      <td>1358.468282</td>\n",
       "      <td>35.440469</td>\n",
       "      <td>156.029094</td>\n",
       "      <td>1021.168082</td>\n",
       "      <td>147.821816</td>\n",
       "    </tr>\n",
       "    <tr>\n",
       "      <th>std</th>\n",
       "      <td>5.481234</td>\n",
       "      <td>29.561050</td>\n",
       "      <td>37.549833</td>\n",
       "      <td>45.112550</td>\n",
       "      <td>65.636447</td>\n",
       "      <td>111.126414</td>\n",
       "      <td>213.545202</td>\n",
       "      <td>254.371826</td>\n",
       "      <td>179.102286</td>\n",
       "      <td>129.452085</td>\n",
       "      <td>99.612144</td>\n",
       "      <td>66.622180</td>\n",
       "      <td>34.820641</td>\n",
       "      <td>856.274824</td>\n",
       "      <td>59.384077</td>\n",
       "      <td>186.031556</td>\n",
       "      <td>677.940309</td>\n",
       "      <td>166.703722</td>\n",
       "    </tr>\n",
       "    <tr>\n",
       "      <th>min</th>\n",
       "      <td>1997.000000</td>\n",
       "      <td>0.000000</td>\n",
       "      <td>0.000000</td>\n",
       "      <td>0.000000</td>\n",
       "      <td>0.000000</td>\n",
       "      <td>0.000000</td>\n",
       "      <td>4.000000</td>\n",
       "      <td>2.400000</td>\n",
       "      <td>10.600000</td>\n",
       "      <td>2.800000</td>\n",
       "      <td>0.000000</td>\n",
       "      <td>0.000000</td>\n",
       "      <td>0.000000</td>\n",
       "      <td>92.400000</td>\n",
       "      <td>0.000000</td>\n",
       "      <td>0.000000</td>\n",
       "      <td>67.200000</td>\n",
       "      <td>0.000000</td>\n",
       "    </tr>\n",
       "    <tr>\n",
       "      <th>25%</th>\n",
       "      <td>2001.000000</td>\n",
       "      <td>0.500000</td>\n",
       "      <td>0.500000</td>\n",
       "      <td>0.900000</td>\n",
       "      <td>3.200000</td>\n",
       "      <td>9.300000</td>\n",
       "      <td>72.150000</td>\n",
       "      <td>155.600000</td>\n",
       "      <td>152.200000</td>\n",
       "      <td>99.150000</td>\n",
       "      <td>16.275000</td>\n",
       "      <td>0.900000</td>\n",
       "      <td>0.100000</td>\n",
       "      <td>748.400000</td>\n",
       "      <td>3.000000</td>\n",
       "      <td>25.375000</td>\n",
       "      <td>554.300000</td>\n",
       "      <td>28.250000</td>\n",
       "    </tr>\n",
       "    <tr>\n",
       "      <th>50%</th>\n",
       "      <td>2006.000000</td>\n",
       "      <td>3.900000</td>\n",
       "      <td>5.700000</td>\n",
       "      <td>8.050000</td>\n",
       "      <td>18.250000</td>\n",
       "      <td>38.900000</td>\n",
       "      <td>148.000000</td>\n",
       "      <td>269.200000</td>\n",
       "      <td>248.300000</td>\n",
       "      <td>166.000000</td>\n",
       "      <td>62.400000</td>\n",
       "      <td>8.000000</td>\n",
       "      <td>2.300000</td>\n",
       "      <td>1093.000000</td>\n",
       "      <td>15.250000</td>\n",
       "      <td>81.000000</td>\n",
       "      <td>854.800000</td>\n",
       "      <td>90.500000</td>\n",
       "    </tr>\n",
       "    <tr>\n",
       "      <th>75%</th>\n",
       "      <td>2011.000000</td>\n",
       "      <td>17.450000</td>\n",
       "      <td>21.750000</td>\n",
       "      <td>32.300000</td>\n",
       "      <td>54.100000</td>\n",
       "      <td>98.225000</td>\n",
       "      <td>295.400000</td>\n",
       "      <td>399.550000</td>\n",
       "      <td>352.425000</td>\n",
       "      <td>259.300000</td>\n",
       "      <td>145.075000</td>\n",
       "      <td>40.750000</td>\n",
       "      <td>14.050000</td>\n",
       "      <td>1648.200000</td>\n",
       "      <td>42.200000</td>\n",
       "      <td>219.500000</td>\n",
       "      <td>1259.900000</td>\n",
       "      <td>205.600000</td>\n",
       "    </tr>\n",
       "    <tr>\n",
       "      <th>max</th>\n",
       "      <td>2015.000000</td>\n",
       "      <td>296.000000</td>\n",
       "      <td>403.500000</td>\n",
       "      <td>341.400000</td>\n",
       "      <td>466.900000</td>\n",
       "      <td>705.300000</td>\n",
       "      <td>1153.000000</td>\n",
       "      <td>1778.900000</td>\n",
       "      <td>1146.000000</td>\n",
       "      <td>868.900000</td>\n",
       "      <td>618.600000</td>\n",
       "      <td>383.800000</td>\n",
       "      <td>283.900000</td>\n",
       "      <td>4229.400000</td>\n",
       "      <td>699.500000</td>\n",
       "      <td>1017.500000</td>\n",
       "      <td>3727.600000</td>\n",
       "      <td>935.400000</td>\n",
       "    </tr>\n",
       "  </tbody>\n",
       "</table>\n",
       "</div>"
      ],
      "text/plain": [
       "              YEAR         JAN         FEB         MAR         APR  \\\n",
       "count   684.000000  683.000000  683.000000  684.000000  684.000000   \n",
       "mean   2006.000000   15.324744   20.081406   27.990205   44.337719   \n",
       "std       5.481234   29.561050   37.549833   45.112550   65.636447   \n",
       "min    1997.000000    0.000000    0.000000    0.000000    0.000000   \n",
       "25%    2001.000000    0.500000    0.500000    0.900000    3.200000   \n",
       "50%    2006.000000    3.900000    5.700000    8.050000   18.250000   \n",
       "75%    2011.000000   17.450000   21.750000   32.300000   54.100000   \n",
       "max    2015.000000  296.000000  403.500000  341.400000  466.900000   \n",
       "\n",
       "              MAY          JUN          JUL          AUG         SEP  \\\n",
       "count  684.000000   684.000000   683.000000   684.000000  684.000000   \n",
       "mean    83.702047   224.167251   323.907906   278.223684  194.161842   \n",
       "std    111.126414   213.545202   254.371826   179.102286  129.452085   \n",
       "min      0.000000     4.000000     2.400000    10.600000    2.800000   \n",
       "25%      9.300000    72.150000   155.600000   152.200000   99.150000   \n",
       "50%     38.900000   148.000000   269.200000   248.300000  166.000000   \n",
       "75%     98.225000   295.400000   399.550000   352.425000  259.300000   \n",
       "max    705.300000  1153.000000  1778.900000  1146.000000  868.900000   \n",
       "\n",
       "              OCT         NOV         DEC       ANNUAL     Jan-Feb  \\\n",
       "count  684.000000  683.000000  683.000000   681.000000  682.000000   \n",
       "mean    94.559211   37.011274   16.125183  1358.468282   35.440469   \n",
       "std     99.612144   66.622180   34.820641   856.274824   59.384077   \n",
       "min      0.000000    0.000000    0.000000    92.400000    0.000000   \n",
       "25%     16.275000    0.900000    0.100000   748.400000    3.000000   \n",
       "50%     62.400000    8.000000    2.300000  1093.000000   15.250000   \n",
       "75%    145.075000   40.750000   14.050000  1648.200000   42.200000   \n",
       "max    618.600000  383.800000  283.900000  4229.400000  699.500000   \n",
       "\n",
       "           Mar-May      Jun-Sep     Oct-Dec  \n",
       "count   684.000000   683.000000  683.000000  \n",
       "mean    156.029094  1021.168082  147.821816  \n",
       "std     186.031556   677.940309  166.703722  \n",
       "min       0.000000    67.200000    0.000000  \n",
       "25%      25.375000   554.300000   28.250000  \n",
       "50%      81.000000   854.800000   90.500000  \n",
       "75%     219.500000  1259.900000  205.600000  \n",
       "max    1017.500000  3727.600000  935.400000  "
      ]
     },
     "execution_count": 80,
     "metadata": {},
     "output_type": "execute_result"
    }
   ],
   "source": [
    "df_rainfall.describe()"
   ]
  },
  {
   "cell_type": "code",
   "execution_count": 81,
   "metadata": {},
   "outputs": [
    {
     "name": "stdout",
     "output_type": "stream",
     "text": [
      "<class 'pandas.core.frame.DataFrame'>\n",
      "RangeIndex: 684 entries, 0 to 683\n",
      "Data columns (total 19 columns):\n",
      " #   Column         Non-Null Count  Dtype  \n",
      "---  ------         --------------  -----  \n",
      " 0   STATE_UT_NAME  684 non-null    object \n",
      " 1   YEAR           684 non-null    int64  \n",
      " 2   JAN            683 non-null    float64\n",
      " 3   FEB            683 non-null    float64\n",
      " 4   MAR            684 non-null    float64\n",
      " 5   APR            684 non-null    float64\n",
      " 6   MAY            684 non-null    float64\n",
      " 7   JUN            684 non-null    float64\n",
      " 8   JUL            683 non-null    float64\n",
      " 9   AUG            684 non-null    float64\n",
      " 10  SEP            684 non-null    float64\n",
      " 11  OCT            684 non-null    float64\n",
      " 12  NOV            683 non-null    float64\n",
      " 13  DEC            683 non-null    float64\n",
      " 14  ANNUAL         681 non-null    float64\n",
      " 15  Jan-Feb        682 non-null    float64\n",
      " 16  Mar-May        684 non-null    float64\n",
      " 17  Jun-Sep        683 non-null    float64\n",
      " 18  Oct-Dec        683 non-null    float64\n",
      "dtypes: float64(17), int64(1), object(1)\n",
      "memory usage: 101.7+ KB\n"
     ]
    }
   ],
   "source": [
    "df_rainfall.info()"
   ]
  },
  {
   "cell_type": "code",
   "execution_count": 82,
   "metadata": {},
   "outputs": [
    {
     "data": {
      "text/plain": [
       "STATE_UT_NAME    0\n",
       "YEAR             0\n",
       "JAN              1\n",
       "FEB              1\n",
       "MAR              0\n",
       "APR              0\n",
       "MAY              0\n",
       "JUN              0\n",
       "JUL              1\n",
       "AUG              0\n",
       "SEP              0\n",
       "OCT              0\n",
       "NOV              1\n",
       "DEC              1\n",
       "ANNUAL           3\n",
       "Jan-Feb          2\n",
       "Mar-May          0\n",
       "Jun-Sep          1\n",
       "Oct-Dec          1\n",
       "dtype: int64"
      ]
     },
     "execution_count": 82,
     "metadata": {},
     "output_type": "execute_result"
    }
   ],
   "source": [
    "df_rainfall.isnull().sum()"
   ]
  },
  {
   "cell_type": "code",
   "execution_count": 83,
   "metadata": {},
   "outputs": [
    {
     "data": {
      "image/png": "[encoded data removed]",
      "text/plain": [
       "<Figure size 1368x432 with 2 Axes>"
      ]
     },
     "metadata": {
      "needs_background": "light"
     },
     "output_type": "display_data"
    }
   ],
   "source": [
    "plt.figure(figsize=(19,6))\n",
    "sns.heatmap(df_rainfall.isnull())\n",
    "plt.show()"
   ]
  },
  {
   "cell_type": "code",
   "execution_count": 84,
   "metadata": {},
   "outputs": [
    {
     "data": {
      "text/html": [
       "<div>\n",
       "<style scoped>\n",
       "    .dataframe tbody tr th:only-of-type {\n",
       "        vertical-align: middle;\n",
       "    }\n",
       "\n",
       "    .dataframe tbody tr th {\n",
       "        vertical-align: top;\n",
       "    }\n",
       "\n",
       "    .dataframe thead th {\n",
       "        text-align: right;\n",
       "    }\n",
       "</style>\n",
       "<table border=\"1\" class=\"dataframe\">\n",
       "  <thead>\n",
       "    <tr style=\"text-align: right;\">\n",
       "      <th></th>\n",
       "      <th>STATE_UT_NAME</th>\n",
       "    </tr>\n",
       "  </thead>\n",
       "  <tbody>\n",
       "    <tr>\n",
       "      <th>count</th>\n",
       "      <td>684</td>\n",
       "    </tr>\n",
       "    <tr>\n",
       "      <th>unique</th>\n",
       "      <td>36</td>\n",
       "    </tr>\n",
       "    <tr>\n",
       "      <th>top</th>\n",
       "      <td>SUB HIMALAYAN WEST BENGAL &amp; SIKKIM</td>\n",
       "    </tr>\n",
       "    <tr>\n",
       "      <th>freq</th>\n",
       "      <td>19</td>\n",
       "    </tr>\n",
       "  </tbody>\n",
       "</table>\n",
       "</div>"
      ],
      "text/plain": [
       "                             STATE_UT_NAME\n",
       "count                                  684\n",
       "unique                                  36\n",
       "top     SUB HIMALAYAN WEST BENGAL & SIKKIM\n",
       "freq                                    19"
      ]
     },
     "execution_count": 84,
     "metadata": {},
     "output_type": "execute_result"
    }
   ],
   "source": [
    "df_rainfall.describe(include=np.object)"
   ]
  },
  {
   "cell_type": "code",
   "execution_count": 85,
   "metadata": {},
   "outputs": [
    {
     "data": {
      "text/html": [
       "<div>\n",
       "<style scoped>\n",
       "    .dataframe tbody tr th:only-of-type {\n",
       "        vertical-align: middle;\n",
       "    }\n",
       "\n",
       "    .dataframe tbody tr th {\n",
       "        vertical-align: top;\n",
       "    }\n",
       "\n",
       "    .dataframe thead th {\n",
       "        text-align: right;\n",
       "    }\n",
       "</style>\n",
       "<table border=\"1\" class=\"dataframe\">\n",
       "  <thead>\n",
       "    <tr style=\"text-align: right;\">\n",
       "      <th></th>\n",
       "      <th>STATE_UT_NAME</th>\n",
       "      <th>YEAR</th>\n",
       "      <th>JAN</th>\n",
       "      <th>FEB</th>\n",
       "      <th>MAR</th>\n",
       "      <th>APR</th>\n",
       "      <th>MAY</th>\n",
       "      <th>JUN</th>\n",
       "      <th>JUL</th>\n",
       "      <th>AUG</th>\n",
       "      <th>SEP</th>\n",
       "      <th>OCT</th>\n",
       "      <th>NOV</th>\n",
       "      <th>DEC</th>\n",
       "      <th>ANNUAL</th>\n",
       "      <th>Jan-Feb</th>\n",
       "      <th>Mar-May</th>\n",
       "      <th>Jun-Sep</th>\n",
       "      <th>Oct-Dec</th>\n",
       "    </tr>\n",
       "  </thead>\n",
       "  <tbody>\n",
       "    <tr>\n",
       "      <th>0</th>\n",
       "      <td>ANDAMAN &amp; NICOBAR ISLANDS</td>\n",
       "      <td>1997</td>\n",
       "      <td>9.5</td>\n",
       "      <td>0.0</td>\n",
       "      <td>0.2</td>\n",
       "      <td>15.6</td>\n",
       "      <td>281.1</td>\n",
       "      <td>199.5</td>\n",
       "      <td>918.5</td>\n",
       "      <td>430.6</td>\n",
       "      <td>440.2</td>\n",
       "      <td>128.7</td>\n",
       "      <td>292.8</td>\n",
       "      <td>38.4</td>\n",
       "      <td>2755.1</td>\n",
       "      <td>9.5</td>\n",
       "      <td>296.9</td>\n",
       "      <td>1988.8</td>\n",
       "      <td>459.9</td>\n",
       "    </tr>\n",
       "    <tr>\n",
       "      <th>1</th>\n",
       "      <td>ANDAMAN &amp; NICOBAR ISLANDS</td>\n",
       "      <td>1998</td>\n",
       "      <td>0.9</td>\n",
       "      <td>0.0</td>\n",
       "      <td>0.0</td>\n",
       "      <td>0.0</td>\n",
       "      <td>348.9</td>\n",
       "      <td>600.0</td>\n",
       "      <td>364.5</td>\n",
       "      <td>258.9</td>\n",
       "      <td>337.8</td>\n",
       "      <td>618.6</td>\n",
       "      <td>227.8</td>\n",
       "      <td>89.0</td>\n",
       "      <td>2846.4</td>\n",
       "      <td>0.9</td>\n",
       "      <td>348.9</td>\n",
       "      <td>1561.2</td>\n",
       "      <td>935.4</td>\n",
       "    </tr>\n",
       "    <tr>\n",
       "      <th>2</th>\n",
       "      <td>ANDAMAN &amp; NICOBAR ISLANDS</td>\n",
       "      <td>1999</td>\n",
       "      <td>46.8</td>\n",
       "      <td>44.6</td>\n",
       "      <td>14.2</td>\n",
       "      <td>270.6</td>\n",
       "      <td>257.4</td>\n",
       "      <td>295.0</td>\n",
       "      <td>408.5</td>\n",
       "      <td>329.2</td>\n",
       "      <td>325.3</td>\n",
       "      <td>437.5</td>\n",
       "      <td>124.9</td>\n",
       "      <td>145.7</td>\n",
       "      <td>2699.7</td>\n",
       "      <td>91.4</td>\n",
       "      <td>542.2</td>\n",
       "      <td>1358.0</td>\n",
       "      <td>708.1</td>\n",
       "    </tr>\n",
       "    <tr>\n",
       "      <th>3</th>\n",
       "      <td>ANDAMAN &amp; NICOBAR ISLANDS</td>\n",
       "      <td>2000</td>\n",
       "      <td>53.0</td>\n",
       "      <td>59.0</td>\n",
       "      <td>171.3</td>\n",
       "      <td>218.1</td>\n",
       "      <td>422.8</td>\n",
       "      <td>357.0</td>\n",
       "      <td>176.3</td>\n",
       "      <td>460.8</td>\n",
       "      <td>250.1</td>\n",
       "      <td>321.2</td>\n",
       "      <td>158.3</td>\n",
       "      <td>115.2</td>\n",
       "      <td>2763.2</td>\n",
       "      <td>112.0</td>\n",
       "      <td>812.2</td>\n",
       "      <td>1244.2</td>\n",
       "      <td>594.7</td>\n",
       "    </tr>\n",
       "    <tr>\n",
       "      <th>4</th>\n",
       "      <td>ANDAMAN &amp; NICOBAR ISLANDS</td>\n",
       "      <td>2001</td>\n",
       "      <td>89.0</td>\n",
       "      <td>15.7</td>\n",
       "      <td>143.3</td>\n",
       "      <td>30.1</td>\n",
       "      <td>705.3</td>\n",
       "      <td>370.7</td>\n",
       "      <td>341.3</td>\n",
       "      <td>469.0</td>\n",
       "      <td>334.4</td>\n",
       "      <td>267.6</td>\n",
       "      <td>222.6</td>\n",
       "      <td>91.8</td>\n",
       "      <td>3080.9</td>\n",
       "      <td>104.7</td>\n",
       "      <td>878.7</td>\n",
       "      <td>1515.4</td>\n",
       "      <td>582.0</td>\n",
       "    </tr>\n",
       "    <tr>\n",
       "      <th>...</th>\n",
       "      <td>...</td>\n",
       "      <td>...</td>\n",
       "      <td>...</td>\n",
       "      <td>...</td>\n",
       "      <td>...</td>\n",
       "      <td>...</td>\n",
       "      <td>...</td>\n",
       "      <td>...</td>\n",
       "      <td>...</td>\n",
       "      <td>...</td>\n",
       "      <td>...</td>\n",
       "      <td>...</td>\n",
       "      <td>...</td>\n",
       "      <td>...</td>\n",
       "      <td>...</td>\n",
       "      <td>...</td>\n",
       "      <td>...</td>\n",
       "      <td>...</td>\n",
       "      <td>...</td>\n",
       "    </tr>\n",
       "    <tr>\n",
       "      <th>676</th>\n",
       "      <td>WEST UTTAR PRADESH</td>\n",
       "      <td>2011</td>\n",
       "      <td>2.1</td>\n",
       "      <td>10.4</td>\n",
       "      <td>3.9</td>\n",
       "      <td>2.8</td>\n",
       "      <td>29.6</td>\n",
       "      <td>175.9</td>\n",
       "      <td>215.9</td>\n",
       "      <td>232.3</td>\n",
       "      <td>101.7</td>\n",
       "      <td>0.7</td>\n",
       "      <td>0.5</td>\n",
       "      <td>1.5</td>\n",
       "      <td>777.4</td>\n",
       "      <td>12.5</td>\n",
       "      <td>36.3</td>\n",
       "      <td>725.9</td>\n",
       "      <td>2.7</td>\n",
       "    </tr>\n",
       "    <tr>\n",
       "      <th>677</th>\n",
       "      <td>WEST UTTAR PRADESH</td>\n",
       "      <td>2012</td>\n",
       "      <td>14.5</td>\n",
       "      <td>0.1</td>\n",
       "      <td>1.4</td>\n",
       "      <td>4.7</td>\n",
       "      <td>0.3</td>\n",
       "      <td>4.0</td>\n",
       "      <td>145.1</td>\n",
       "      <td>149.1</td>\n",
       "      <td>67.8</td>\n",
       "      <td>0.5</td>\n",
       "      <td>0.1</td>\n",
       "      <td>2.0</td>\n",
       "      <td>389.6</td>\n",
       "      <td>14.5</td>\n",
       "      <td>6.4</td>\n",
       "      <td>366.0</td>\n",
       "      <td>2.7</td>\n",
       "    </tr>\n",
       "    <tr>\n",
       "      <th>678</th>\n",
       "      <td>WEST UTTAR PRADESH</td>\n",
       "      <td>2013</td>\n",
       "      <td>20.4</td>\n",
       "      <td>69.5</td>\n",
       "      <td>3.5</td>\n",
       "      <td>1.6</td>\n",
       "      <td>2.1</td>\n",
       "      <td>190.6</td>\n",
       "      <td>233.9</td>\n",
       "      <td>287.1</td>\n",
       "      <td>52.2</td>\n",
       "      <td>61.2</td>\n",
       "      <td>1.7</td>\n",
       "      <td>8.9</td>\n",
       "      <td>932.8</td>\n",
       "      <td>89.9</td>\n",
       "      <td>7.2</td>\n",
       "      <td>763.8</td>\n",
       "      <td>71.8</td>\n",
       "    </tr>\n",
       "    <tr>\n",
       "      <th>679</th>\n",
       "      <td>WEST UTTAR PRADESH</td>\n",
       "      <td>2014</td>\n",
       "      <td>48.3</td>\n",
       "      <td>29.4</td>\n",
       "      <td>22.6</td>\n",
       "      <td>5.3</td>\n",
       "      <td>11.0</td>\n",
       "      <td>22.0</td>\n",
       "      <td>151.6</td>\n",
       "      <td>81.0</td>\n",
       "      <td>84.7</td>\n",
       "      <td>14.6</td>\n",
       "      <td>0.0</td>\n",
       "      <td>16.3</td>\n",
       "      <td>486.9</td>\n",
       "      <td>77.7</td>\n",
       "      <td>39.0</td>\n",
       "      <td>339.4</td>\n",
       "      <td>30.8</td>\n",
       "    </tr>\n",
       "    <tr>\n",
       "      <th>680</th>\n",
       "      <td>WEST UTTAR PRADESH</td>\n",
       "      <td>2015</td>\n",
       "      <td>31.6</td>\n",
       "      <td>7.2</td>\n",
       "      <td>66.8</td>\n",
       "      <td>21.0</td>\n",
       "      <td>8.1</td>\n",
       "      <td>72.0</td>\n",
       "      <td>194.2</td>\n",
       "      <td>143.5</td>\n",
       "      <td>26.5</td>\n",
       "      <td>6.9</td>\n",
       "      <td>2.0</td>\n",
       "      <td>3.0</td>\n",
       "      <td>582.7</td>\n",
       "      <td>38.8</td>\n",
       "      <td>95.9</td>\n",
       "      <td>436.1</td>\n",
       "      <td>11.9</td>\n",
       "    </tr>\n",
       "  </tbody>\n",
       "</table>\n",
       "<p>681 rows × 19 columns</p>\n",
       "</div>"
      ],
      "text/plain": [
       "                 STATE_UT_NAME  YEAR   JAN   FEB    MAR    APR    MAY    JUN  \\\n",
       "0    ANDAMAN & NICOBAR ISLANDS  1997   9.5   0.0    0.2   15.6  281.1  199.5   \n",
       "1    ANDAMAN & NICOBAR ISLANDS  1998   0.9   0.0    0.0    0.0  348.9  600.0   \n",
       "2    ANDAMAN & NICOBAR ISLANDS  1999  46.8  44.6   14.2  270.6  257.4  295.0   \n",
       "3    ANDAMAN & NICOBAR ISLANDS  2000  53.0  59.0  171.3  218.1  422.8  357.0   \n",
       "4    ANDAMAN & NICOBAR ISLANDS  2001  89.0  15.7  143.3   30.1  705.3  370.7   \n",
       "..                         ...   ...   ...   ...    ...    ...    ...    ...   \n",
       "676         WEST UTTAR PRADESH  2011   2.1  10.4    3.9    2.8   29.6  175.9   \n",
       "677         WEST UTTAR PRADESH  2012  14.5   0.1    1.4    4.7    0.3    4.0   \n",
       "678         WEST UTTAR PRADESH  2013  20.4  69.5    3.5    1.6    2.1  190.6   \n",
       "679         WEST UTTAR PRADESH  2014  48.3  29.4   22.6    5.3   11.0   22.0   \n",
       "680         WEST UTTAR PRADESH  2015  31.6   7.2   66.8   21.0    8.1   72.0   \n",
       "\n",
       "       JUL    AUG    SEP    OCT    NOV    DEC  ANNUAL  Jan-Feb  Mar-May  \\\n",
       "0    918.5  430.6  440.2  128.7  292.8   38.4  2755.1      9.5    296.9   \n",
       "1    364.5  258.9  337.8  618.6  227.8   89.0  2846.4      0.9    348.9   \n",
       "2    408.5  329.2  325.3  437.5  124.9  145.7  2699.7     91.4    542.2   \n",
       "3    176.3  460.8  250.1  321.2  158.3  115.2  2763.2    112.0    812.2   \n",
       "4    341.3  469.0  334.4  267.6  222.6   91.8  3080.9    104.7    878.7   \n",
       "..     ...    ...    ...    ...    ...    ...     ...      ...      ...   \n",
       "676  215.9  232.3  101.7    0.7    0.5    1.5   777.4     12.5     36.3   \n",
       "677  145.1  149.1   67.8    0.5    0.1    2.0   389.6     14.5      6.4   \n",
       "678  233.9  287.1   52.2   61.2    1.7    8.9   932.8     89.9      7.2   \n",
       "679  151.6   81.0   84.7   14.6    0.0   16.3   486.9     77.7     39.0   \n",
       "680  194.2  143.5   26.5    6.9    2.0    3.0   582.7     38.8     95.9   \n",
       "\n",
       "     Jun-Sep  Oct-Dec  \n",
       "0     1988.8    459.9  \n",
       "1     1561.2    935.4  \n",
       "2     1358.0    708.1  \n",
       "3     1244.2    594.7  \n",
       "4     1515.4    582.0  \n",
       "..       ...      ...  \n",
       "676    725.9      2.7  \n",
       "677    366.0      2.7  \n",
       "678    763.8     71.8  \n",
       "679    339.4     30.8  \n",
       "680    436.1     11.9  \n",
       "\n",
       "[681 rows x 19 columns]"
      ]
     },
     "execution_count": 85,
     "metadata": {},
     "output_type": "execute_result"
    }
   ],
   "source": [
    "df_rainfall.dropna().reset_index(drop=True)"
   ]
  },
  {
   "cell_type": "code",
   "execution_count": 121,
   "metadata": {},
   "outputs": [],
   "source": [
    "feature=df_rainfall.select_dtypes(np.number).columns.tolist()"
   ]
  },
  {
   "cell_type": "code",
   "execution_count": 124,
   "metadata": {},
   "outputs": [
    {
     "data": {
      "image/png": "[encoded data removed]",
      "text/plain": [
       "<Figure size 1080x1080 with 18 Axes>"
      ]
     },
     "metadata": {
      "needs_background": "light"
     },
     "output_type": "display_data"
    }
   ],
   "source": [
    "fig, ax = plt.subplots(9,2,figsize=(15,15))\n",
    "for variable,subplot in zip(feature,ax.flatten()):\n",
    "    figplot=sns.boxplot(df_rainfall[variable],ax=subplot)\n",
    "    figplot.set_xlabel(f\"{variable}\",fontsize=10)\n",
    "\n",
    "plt.tight_layout()\n",
    "plt.show()"
   ]
  },
  {
   "cell_type": "code",
   "execution_count": 133,
   "metadata": {},
   "outputs": [
    {
     "data": {
      "text/html": [
       "<div>\n",
       "<style scoped>\n",
       "    .dataframe tbody tr th:only-of-type {\n",
       "        vertical-align: middle;\n",
       "    }\n",
       "\n",
       "    .dataframe tbody tr th {\n",
       "        vertical-align: top;\n",
       "    }\n",
       "\n",
       "    .dataframe thead th {\n",
       "        text-align: right;\n",
       "    }\n",
       "</style>\n",
       "<table border=\"1\" class=\"dataframe\">\n",
       "  <thead>\n",
       "    <tr style=\"text-align: right;\">\n",
       "      <th></th>\n",
       "      <th>STATE_UT_NAME</th>\n",
       "    </tr>\n",
       "  </thead>\n",
       "  <tbody>\n",
       "    <tr>\n",
       "      <th>0</th>\n",
       "      <td>ANDAMAN &amp; NICOBAR ISLANDS</td>\n",
       "    </tr>\n",
       "    <tr>\n",
       "      <th>1</th>\n",
       "      <td>ANDAMAN &amp; NICOBAR ISLANDS</td>\n",
       "    </tr>\n",
       "    <tr>\n",
       "      <th>2</th>\n",
       "      <td>ANDAMAN &amp; NICOBAR ISLANDS</td>\n",
       "    </tr>\n",
       "    <tr>\n",
       "      <th>3</th>\n",
       "      <td>ANDAMAN &amp; NICOBAR ISLANDS</td>\n",
       "    </tr>\n",
       "    <tr>\n",
       "      <th>4</th>\n",
       "      <td>ANDAMAN &amp; NICOBAR ISLANDS</td>\n",
       "    </tr>\n",
       "    <tr>\n",
       "      <th>...</th>\n",
       "      <td>...</td>\n",
       "    </tr>\n",
       "    <tr>\n",
       "      <th>679</th>\n",
       "      <td>WEST UTTAR PRADESH</td>\n",
       "    </tr>\n",
       "    <tr>\n",
       "      <th>680</th>\n",
       "      <td>WEST UTTAR PRADESH</td>\n",
       "    </tr>\n",
       "    <tr>\n",
       "      <th>681</th>\n",
       "      <td>WEST UTTAR PRADESH</td>\n",
       "    </tr>\n",
       "    <tr>\n",
       "      <th>682</th>\n",
       "      <td>WEST UTTAR PRADESH</td>\n",
       "    </tr>\n",
       "    <tr>\n",
       "      <th>683</th>\n",
       "      <td>WEST UTTAR PRADESH</td>\n",
       "    </tr>\n",
       "  </tbody>\n",
       "</table>\n",
       "<p>684 rows × 1 columns</p>\n",
       "</div>"
      ],
      "text/plain": [
       "                 STATE_UT_NAME\n",
       "0    ANDAMAN & NICOBAR ISLANDS\n",
       "1    ANDAMAN & NICOBAR ISLANDS\n",
       "2    ANDAMAN & NICOBAR ISLANDS\n",
       "3    ANDAMAN & NICOBAR ISLANDS\n",
       "4    ANDAMAN & NICOBAR ISLANDS\n",
       "..                         ...\n",
       "679         WEST UTTAR PRADESH\n",
       "680         WEST UTTAR PRADESH\n",
       "681         WEST UTTAR PRADESH\n",
       "682         WEST UTTAR PRADESH\n",
       "683         WEST UTTAR PRADESH\n",
       "\n",
       "[684 rows x 1 columns]"
      ]
     },
     "execution_count": 133,
     "metadata": {},
     "output_type": "execute_result"
    }
   ],
   "source": [
    "df_rainfall.select_dtypes(include=np.object)"
   ]
  },
  {
   "cell_type": "code",
   "execution_count": 136,
   "metadata": {},
   "outputs": [
    {
     "data": {
      "text/plain": [
       "EAST RAJASTHAN                        19\n",
       "WEST UTTAR PRADESH                    19\n",
       "WEST MADHYA PRADESH                   19\n",
       "ASSAM & MEGHALAYA                     19\n",
       "CHHATTISGARH                          19\n",
       "NAGA MANI MIZO TRIPURA                19\n",
       "TAMIL NADU                            19\n",
       "ANDAMAN & NICOBAR ISLANDS             19\n",
       "COASTAL ANDHRA PRADESH                19\n",
       "HIMACHAL PRADESH                      19\n",
       "VIDARBHA                              19\n",
       "WEST RAJASTHAN                        19\n",
       "UTTARAKHAND                           19\n",
       "PUNJAB                                19\n",
       "KONKAN & GOA                          19\n",
       "NORTH INTERIOR KARNATAKA              19\n",
       "GUJARAT REGION                        19\n",
       "HARYANA DELHI & CHANDIGARH            19\n",
       "ARUNACHAL PRADESH                     19\n",
       "ORISSA                                19\n",
       "TELANGANA                             19\n",
       "GANGETIC WEST BENGAL                  19\n",
       "EAST MADHYA PRADESH                   19\n",
       "BIHAR                                 19\n",
       "RAYALSEEMA                            19\n",
       "JHARKHAND                             19\n",
       "MADHYA MAHARASHTRA                    19\n",
       "MATATHWADA                            19\n",
       "COASTAL KARNATAKA                     19\n",
       "JAMMU & KASHMIR                       19\n",
       "LAKSHADWEEP                           19\n",
       "EAST UTTAR PRADESH                    19\n",
       "KERALA                                19\n",
       "SOUTH INTERIOR KARNATAKA              19\n",
       "SUB HIMALAYAN WEST BENGAL & SIKKIM    19\n",
       "SAURASHTRA & KUTCH                    19\n",
       "Name: STATE_UT_NAME, dtype: int64"
      ]
     },
     "execution_count": 136,
     "metadata": {},
     "output_type": "execute_result"
    }
   ],
   "source": [
    "df_rainfall['STATE_UT_NAME'].value_counts()"
   ]
  },
  {
   "cell_type": "code",
   "execution_count": 137,
   "metadata": {},
   "outputs": [],
   "source": [
    "df_crop.to_csv('Crop_Prod.csv')\n",
    "df_rainfall.to_csv('Rainfall.csv')"
   ]
  },
  {
   "cell_type": "code",
   "execution_count": 88,
   "metadata": {},
   "outputs": [
    {
     "data": {
      "text/html": [
       "<div>\n",
       "<style scoped>\n",
       "    .dataframe tbody tr th:only-of-type {\n",
       "        vertical-align: middle;\n",
       "    }\n",
       "\n",
       "    .dataframe tbody tr th {\n",
       "        vertical-align: top;\n",
       "    }\n",
       "\n",
       "    .dataframe thead th {\n",
       "        text-align: right;\n",
       "    }\n",
       "</style>\n",
       "<table border=\"1\" class=\"dataframe\">\n",
       "  <thead>\n",
       "    <tr style=\"text-align: right;\">\n",
       "      <th></th>\n",
       "      <th>State_Name</th>\n",
       "      <th>District_Name</th>\n",
       "      <th>Crop_Year</th>\n",
       "      <th>Season</th>\n",
       "      <th>Crop</th>\n",
       "      <th>Area</th>\n",
       "      <th>Production</th>\n",
       "    </tr>\n",
       "  </thead>\n",
       "  <tbody>\n",
       "    <tr>\n",
       "      <th>0</th>\n",
       "      <td>Andaman and Nicobar Islands</td>\n",
       "      <td>NICOBARS</td>\n",
       "      <td>2000</td>\n",
       "      <td>Kharif</td>\n",
       "      <td>Arecanut</td>\n",
       "      <td>1254.0</td>\n",
       "      <td>2000.0</td>\n",
       "    </tr>\n",
       "    <tr>\n",
       "      <th>1</th>\n",
       "      <td>Andaman and Nicobar Islands</td>\n",
       "      <td>NICOBARS</td>\n",
       "      <td>2000</td>\n",
       "      <td>Kharif</td>\n",
       "      <td>Other Kharif pulses</td>\n",
       "      <td>2.0</td>\n",
       "      <td>1.0</td>\n",
       "    </tr>\n",
       "    <tr>\n",
       "      <th>2</th>\n",
       "      <td>Andaman and Nicobar Islands</td>\n",
       "      <td>NICOBARS</td>\n",
       "      <td>2000</td>\n",
       "      <td>Kharif</td>\n",
       "      <td>Rice</td>\n",
       "      <td>102.0</td>\n",
       "      <td>321.0</td>\n",
       "    </tr>\n",
       "    <tr>\n",
       "      <th>3</th>\n",
       "      <td>Andaman and Nicobar Islands</td>\n",
       "      <td>NICOBARS</td>\n",
       "      <td>2000</td>\n",
       "      <td>Whole Year</td>\n",
       "      <td>Banana</td>\n",
       "      <td>176.0</td>\n",
       "      <td>641.0</td>\n",
       "    </tr>\n",
       "    <tr>\n",
       "      <th>4</th>\n",
       "      <td>Andaman and Nicobar Islands</td>\n",
       "      <td>NICOBARS</td>\n",
       "      <td>2000</td>\n",
       "      <td>Whole Year</td>\n",
       "      <td>Cashewnut</td>\n",
       "      <td>720.0</td>\n",
       "      <td>165.0</td>\n",
       "    </tr>\n",
       "  </tbody>\n",
       "</table>\n",
       "</div>"
      ],
      "text/plain": [
       "                    State_Name District_Name Crop_Year      Season  \\\n",
       "0  Andaman and Nicobar Islands      NICOBARS      2000      Kharif   \n",
       "1  Andaman and Nicobar Islands      NICOBARS      2000      Kharif   \n",
       "2  Andaman and Nicobar Islands      NICOBARS      2000      Kharif   \n",
       "3  Andaman and Nicobar Islands      NICOBARS      2000  Whole Year   \n",
       "4  Andaman and Nicobar Islands      NICOBARS      2000  Whole Year   \n",
       "\n",
       "                  Crop    Area  Production  \n",
       "0             Arecanut  1254.0      2000.0  \n",
       "1  Other Kharif pulses     2.0         1.0  \n",
       "2                 Rice   102.0       321.0  \n",
       "3               Banana   176.0       641.0  \n",
       "4            Cashewnut   720.0       165.0  "
      ]
     },
     "execution_count": 88,
     "metadata": {},
     "output_type": "execute_result"
    }
   ],
   "source": [
    "df_crop.head()"
   ]
  },
  {
   "cell_type": "code",
   "execution_count": 94,
   "metadata": {},
   "outputs": [
    {
     "data": {
      "text/plain": [
       "Int64Index([1997, 1998, 1999, 2000, 2001, 2002, 2003, 2004, 2005, 2006, 2007,\n",
       "            2008, 2009, 2010, 2011, 2012, 2013, 2014, 2015],\n",
       "           dtype='int64', name='Crop_Year')"
      ]
     },
     "execution_count": 94,
     "metadata": {},
     "output_type": "execute_result"
    }
   ],
   "source": [
    "df_crop.groupby(['Crop_Year'])['Production'].mean().sort_index().index"
   ]
  },
  {
   "cell_type": "code",
   "execution_count": 106,
   "metadata": {},
   "outputs": [
    {
     "data": {
      "text/plain": [
       "Crop_Year\n",
       "2015    1.236197e+04\n",
       "1997    9.565489e+04\n",
       "2010    4.573050e+05\n",
       "2003    4.619857e+05\n",
       "2002    4.654666e+05\n",
       "2007    4.821251e+05\n",
       "1999    5.172145e+05\n",
       "1998    5.172545e+05\n",
       "2008    5.423063e+05\n",
       "2000    5.496723e+05\n",
       "2009    5.564389e+05\n",
       "2001    5.616144e+05\n",
       "2004    5.909555e+05\n",
       "2005    5.949965e+05\n",
       "2012    6.197705e+05\n",
       "2006    6.212016e+05\n",
       "2014    8.011596e+05\n",
       "2013    9.575947e+05\n",
       "2011    1.037554e+06\n",
       "Name: Production, dtype: float64"
      ]
     },
     "execution_count": 106,
     "metadata": {},
     "output_type": "execute_result"
    }
   ],
   "source": [
    "df_crop.groupby(['Crop_Year'])['Production'].mean().sort_values()"
   ]
  },
  {
   "cell_type": "code",
   "execution_count": 105,
   "metadata": {},
   "outputs": [
    {
     "data": {
      "image/png": "[encoded data removed]",
      "text/plain": [
       "<Figure size 1296x720 with 1 Axes>"
      ]
     },
     "metadata": {},
     "output_type": "display_data"
    }
   ],
   "source": [
    "plt.figure(figsize=(18,10))\n",
    "labels=df_crop.groupby(['Crop_Year'])['Production'].mean().sort_index().index.tolist()\n",
    "explode=[0,0,0,0,0,0,0,0,0,0,0,0,0,0,0.3,0,0,0,0]\n",
    "plt.pie(df_crop.groupby(['Crop_Year'])['Production'].mean().sort_index(),labels=labels,explode=explode)\n",
    "plt.show()"
   ]
  },
  {
   "cell_type": "code",
   "execution_count": 137,
   "metadata": {},
   "outputs": [],
   "source": [
    "a=pd.DataFrame(df_crop.groupby(['Crop_Year','Crop'])['Production'].sum().sort_values(ascending=False).groupby(\n",
    "             ['Crop_Year']).head(1))"
   ]
  },
  {
   "cell_type": "code",
   "execution_count": 138,
   "metadata": {},
   "outputs": [],
   "source": [
    "a.reset_index(inplace=True)"
   ]
  },
  {
   "cell_type": "code",
   "execution_count": 139,
   "metadata": {},
   "outputs": [
    {
     "data": {
      "text/html": [
       "<div>\n",
       "<style scoped>\n",
       "    .dataframe tbody tr th:only-of-type {\n",
       "        vertical-align: middle;\n",
       "    }\n",
       "\n",
       "    .dataframe tbody tr th {\n",
       "        vertical-align: top;\n",
       "    }\n",
       "\n",
       "    .dataframe thead th {\n",
       "        text-align: right;\n",
       "    }\n",
       "</style>\n",
       "<table border=\"1\" class=\"dataframe\">\n",
       "  <thead>\n",
       "    <tr style=\"text-align: right;\">\n",
       "      <th></th>\n",
       "      <th>Crop_Year</th>\n",
       "      <th>Crop</th>\n",
       "      <th>Production</th>\n",
       "    </tr>\n",
       "  </thead>\n",
       "  <tbody>\n",
       "    <tr>\n",
       "      <th>0</th>\n",
       "      <td>2011</td>\n",
       "      <td>Coconut</td>\n",
       "      <td>1.359422e+10</td>\n",
       "    </tr>\n",
       "    <tr>\n",
       "      <th>1</th>\n",
       "      <td>2013</td>\n",
       "      <td>Coconut</td>\n",
       "      <td>1.221919e+10</td>\n",
       "    </tr>\n",
       "    <tr>\n",
       "      <th>2</th>\n",
       "      <td>2006</td>\n",
       "      <td>Coconut</td>\n",
       "      <td>8.092567e+09</td>\n",
       "    </tr>\n",
       "    <tr>\n",
       "      <th>3</th>\n",
       "      <td>2014</td>\n",
       "      <td>Coconut</td>\n",
       "      <td>8.067812e+09</td>\n",
       "    </tr>\n",
       "    <tr>\n",
       "      <th>4</th>\n",
       "      <td>2004</td>\n",
       "      <td>Coconut</td>\n",
       "      <td>7.663984e+09</td>\n",
       "    </tr>\n",
       "  </tbody>\n",
       "</table>\n",
       "</div>"
      ],
      "text/plain": [
       "   Crop_Year     Crop    Production\n",
       "0       2011  Coconut  1.359422e+10\n",
       "1       2013  Coconut  1.221919e+10\n",
       "2       2006  Coconut  8.092567e+09\n",
       "3       2014  Coconut  8.067812e+09\n",
       "4       2004  Coconut  7.663984e+09"
      ]
     },
     "execution_count": 139,
     "metadata": {},
     "output_type": "execute_result"
    }
   ],
   "source": [
    "a.head()"
   ]
  },
  {
   "cell_type": "code",
   "execution_count": 140,
   "metadata": {},
   "outputs": [
    {
     "data": {
      "image/png": "[encoded data removed]",
      "text/plain": [
       "<Figure size 1080x432 with 1 Axes>"
      ]
     },
     "metadata": {
      "needs_background": "light"
     },
     "output_type": "display_data"
    }
   ],
   "source": [
    "plt.figure(figsize=(15,6))\n",
    "sns.barplot(x=a['Crop_Year'],y=a['Production'],hue=a['Crop'],)\n",
    "plt.show()"
   ]
  },
  {
   "cell_type": "code",
   "execution_count": null,
   "metadata": {},
   "outputs": [],
   "source": [
    "df_crop.groupby(['State_Name','Crop'])['Production'].mean()"
   ]
  },
  {
   "cell_type": "code",
   "execution_count": 118,
   "metadata": {},
   "outputs": [
    {
     "data": {
      "text/plain": [
       "2003    17287\n",
       "2002    16671\n",
       "2008    14550\n",
       "2007    14526\n",
       "2006    14328\n",
       "2004    14117\n",
       "2009    14116\n",
       "2011    14071\n",
       "2010    14065\n",
       "2005    13799\n",
       "2000    13658\n",
       "2013    13650\n",
       "2012    13410\n",
       "2001    13361\n",
       "1999    12515\n",
       "1998    11533\n",
       "2014    10973\n",
       "1997     8899\n",
       "2015      562\n",
       "Name: Crop_Year, dtype: int64"
      ]
     },
     "execution_count": 118,
     "metadata": {},
     "output_type": "execute_result"
    }
   ],
   "source": [
    "df_crop['Crop_Year'].value_counts()"
   ]
  },
  {
   "cell_type": "code",
   "execution_count": 157,
   "metadata": {},
   "outputs": [
    {
     "data": {
      "text/plain": [
       "State_Name                   Crop           \n",
       "Kerala                       Coconut            3.881073e+08\n",
       "Andhra Pradesh               Coconut            9.944380e+07\n",
       "Goa                          Coconut            4.192605e+07\n",
       "Andaman and Nicobar Islands  Coconut            3.987722e+07\n",
       "Tamil Nadu                   Coconut            3.745802e+07\n",
       "Puducherry                   Coconut            6.651561e+06\n",
       "Assam                        Coconut            4.886020e+06\n",
       "West Bengal                  Coconut            3.323339e+06\n",
       "Maharashtra                  Sugarcane          2.058083e+06\n",
       "Telangana                    Coconut            2.032173e+06\n",
       "Uttar Pradesh                Sugarcane          1.726391e+06\n",
       "Uttarakhand                  Sugarcane          1.301352e+06\n",
       "Karnataka                    Sugarcane          1.283198e+06\n",
       "Gujarat                      Sugarcane          9.299246e+05\n",
       "Punjab                       Wheat              8.193669e+05\n",
       "Haryana                      Wheat              5.004637e+05\n",
       "Chhattisgarh                 Rice               2.791049e+05\n",
       "Rajasthan                    Wheat              2.099094e+05\n",
       "Bihar                        Sugarcane          1.949123e+05\n",
       "Madhya Pradesh               Wheat              1.830272e+05\n",
       "Tripura                      Rice               1.335626e+05\n",
       "Dadra and Nagar Haveli       Sugarcane          9.299958e+04\n",
       "Odisha                       Rice               8.905499e+04\n",
       "Himachal Pradesh             Maize              5.425944e+04\n",
       "Manipur                      Rice               3.598877e+04\n",
       "Jammu and Kashmir            Maize              3.495488e+04\n",
       "Jharkhand                    Rice               3.316041e+04\n",
       "Nagaland                     Rice               2.773574e+04\n",
       "Sikkim                       Total foodgrain    2.306175e+04\n",
       "Meghalaya                    Total foodgrain    2.157438e+04\n",
       "Mizoram                      Rice               1.211281e+04\n",
       "Arunachal Pradesh            Rice               9.924823e+03\n",
       "Chandigarh                   Wheat              3.035769e+03\n",
       "Name: Production, dtype: float64"
      ]
     },
     "execution_count": 157,
     "metadata": {},
     "output_type": "execute_result"
    }
   ],
   "source": [
    "df_crop.groupby(['State_Name','Crop'])['Production'].mean().sort_values(ascending=False).groupby(\n",
    "             ['State_Name']).head(1)"
   ]
  },
  {
   "cell_type": "code",
   "execution_count": 161,
   "metadata": {},
   "outputs": [],
   "source": [
    "b=pd.DataFrame(df_crop.groupby(['State_Name','Crop'])['Production'].mean().sort_values(ascending=False).groupby(\n",
    "             ['State_Name']).head(1))"
   ]
  },
  {
   "cell_type": "code",
   "execution_count": 164,
   "metadata": {},
   "outputs": [
    {
     "data": {
      "text/html": [
       "<div>\n",
       "<style scoped>\n",
       "    .dataframe tbody tr th:only-of-type {\n",
       "        vertical-align: middle;\n",
       "    }\n",
       "\n",
       "    .dataframe tbody tr th {\n",
       "        vertical-align: top;\n",
       "    }\n",
       "\n",
       "    .dataframe thead th {\n",
       "        text-align: right;\n",
       "    }\n",
       "</style>\n",
       "<table border=\"1\" class=\"dataframe\">\n",
       "  <thead>\n",
       "    <tr style=\"text-align: right;\">\n",
       "      <th></th>\n",
       "      <th></th>\n",
       "      <th>Production</th>\n",
       "    </tr>\n",
       "    <tr>\n",
       "      <th>State_Name</th>\n",
       "      <th>Crop</th>\n",
       "      <th></th>\n",
       "    </tr>\n",
       "  </thead>\n",
       "  <tbody>\n",
       "    <tr>\n",
       "      <th>Kerala</th>\n",
       "      <th>Coconut</th>\n",
       "      <td>3.881073e+08</td>\n",
       "    </tr>\n",
       "    <tr>\n",
       "      <th>Andhra Pradesh</th>\n",
       "      <th>Coconut</th>\n",
       "      <td>9.944380e+07</td>\n",
       "    </tr>\n",
       "    <tr>\n",
       "      <th>Goa</th>\n",
       "      <th>Coconut</th>\n",
       "      <td>4.192605e+07</td>\n",
       "    </tr>\n",
       "    <tr>\n",
       "      <th>Andaman and Nicobar Islands</th>\n",
       "      <th>Coconut</th>\n",
       "      <td>3.987722e+07</td>\n",
       "    </tr>\n",
       "    <tr>\n",
       "      <th>Tamil Nadu</th>\n",
       "      <th>Coconut</th>\n",
       "      <td>3.745802e+07</td>\n",
       "    </tr>\n",
       "    <tr>\n",
       "      <th>Puducherry</th>\n",
       "      <th>Coconut</th>\n",
       "      <td>6.651561e+06</td>\n",
       "    </tr>\n",
       "    <tr>\n",
       "      <th>Assam</th>\n",
       "      <th>Coconut</th>\n",
       "      <td>4.886020e+06</td>\n",
       "    </tr>\n",
       "    <tr>\n",
       "      <th>West Bengal</th>\n",
       "      <th>Coconut</th>\n",
       "      <td>3.323339e+06</td>\n",
       "    </tr>\n",
       "    <tr>\n",
       "      <th>Maharashtra</th>\n",
       "      <th>Sugarcane</th>\n",
       "      <td>2.058083e+06</td>\n",
       "    </tr>\n",
       "    <tr>\n",
       "      <th>Telangana</th>\n",
       "      <th>Coconut</th>\n",
       "      <td>2.032173e+06</td>\n",
       "    </tr>\n",
       "    <tr>\n",
       "      <th>Uttar Pradesh</th>\n",
       "      <th>Sugarcane</th>\n",
       "      <td>1.726391e+06</td>\n",
       "    </tr>\n",
       "    <tr>\n",
       "      <th>Uttarakhand</th>\n",
       "      <th>Sugarcane</th>\n",
       "      <td>1.301352e+06</td>\n",
       "    </tr>\n",
       "    <tr>\n",
       "      <th>Karnataka</th>\n",
       "      <th>Sugarcane</th>\n",
       "      <td>1.283198e+06</td>\n",
       "    </tr>\n",
       "    <tr>\n",
       "      <th>Gujarat</th>\n",
       "      <th>Sugarcane</th>\n",
       "      <td>9.299246e+05</td>\n",
       "    </tr>\n",
       "    <tr>\n",
       "      <th>Punjab</th>\n",
       "      <th>Wheat</th>\n",
       "      <td>8.193669e+05</td>\n",
       "    </tr>\n",
       "    <tr>\n",
       "      <th>Haryana</th>\n",
       "      <th>Wheat</th>\n",
       "      <td>5.004637e+05</td>\n",
       "    </tr>\n",
       "    <tr>\n",
       "      <th>Chhattisgarh</th>\n",
       "      <th>Rice</th>\n",
       "      <td>2.791049e+05</td>\n",
       "    </tr>\n",
       "    <tr>\n",
       "      <th>Rajasthan</th>\n",
       "      <th>Wheat</th>\n",
       "      <td>2.099094e+05</td>\n",
       "    </tr>\n",
       "    <tr>\n",
       "      <th>Bihar</th>\n",
       "      <th>Sugarcane</th>\n",
       "      <td>1.949123e+05</td>\n",
       "    </tr>\n",
       "    <tr>\n",
       "      <th>Madhya Pradesh</th>\n",
       "      <th>Wheat</th>\n",
       "      <td>1.830272e+05</td>\n",
       "    </tr>\n",
       "    <tr>\n",
       "      <th>Tripura</th>\n",
       "      <th>Rice</th>\n",
       "      <td>1.335626e+05</td>\n",
       "    </tr>\n",
       "    <tr>\n",
       "      <th>Dadra and Nagar Haveli</th>\n",
       "      <th>Sugarcane</th>\n",
       "      <td>9.299958e+04</td>\n",
       "    </tr>\n",
       "    <tr>\n",
       "      <th>Odisha</th>\n",
       "      <th>Rice</th>\n",
       "      <td>8.905499e+04</td>\n",
       "    </tr>\n",
       "    <tr>\n",
       "      <th>Himachal Pradesh</th>\n",
       "      <th>Maize</th>\n",
       "      <td>5.425944e+04</td>\n",
       "    </tr>\n",
       "    <tr>\n",
       "      <th>Manipur</th>\n",
       "      <th>Rice</th>\n",
       "      <td>3.598877e+04</td>\n",
       "    </tr>\n",
       "    <tr>\n",
       "      <th>Jammu and Kashmir</th>\n",
       "      <th>Maize</th>\n",
       "      <td>3.495488e+04</td>\n",
       "    </tr>\n",
       "    <tr>\n",
       "      <th>Jharkhand</th>\n",
       "      <th>Rice</th>\n",
       "      <td>3.316041e+04</td>\n",
       "    </tr>\n",
       "    <tr>\n",
       "      <th>Nagaland</th>\n",
       "      <th>Rice</th>\n",
       "      <td>2.773574e+04</td>\n",
       "    </tr>\n",
       "    <tr>\n",
       "      <th>Sikkim</th>\n",
       "      <th>Total foodgrain</th>\n",
       "      <td>2.306175e+04</td>\n",
       "    </tr>\n",
       "    <tr>\n",
       "      <th>Meghalaya</th>\n",
       "      <th>Total foodgrain</th>\n",
       "      <td>2.157438e+04</td>\n",
       "    </tr>\n",
       "    <tr>\n",
       "      <th>Mizoram</th>\n",
       "      <th>Rice</th>\n",
       "      <td>1.211281e+04</td>\n",
       "    </tr>\n",
       "    <tr>\n",
       "      <th>Arunachal Pradesh</th>\n",
       "      <th>Rice</th>\n",
       "      <td>9.924823e+03</td>\n",
       "    </tr>\n",
       "    <tr>\n",
       "      <th>Chandigarh</th>\n",
       "      <th>Wheat</th>\n",
       "      <td>3.035769e+03</td>\n",
       "    </tr>\n",
       "  </tbody>\n",
       "</table>\n",
       "</div>"
      ],
      "text/plain": [
       "                                               Production\n",
       "State_Name                  Crop                         \n",
       "Kerala                      Coconut          3.881073e+08\n",
       "Andhra Pradesh              Coconut          9.944380e+07\n",
       "Goa                         Coconut          4.192605e+07\n",
       "Andaman and Nicobar Islands Coconut          3.987722e+07\n",
       "Tamil Nadu                  Coconut          3.745802e+07\n",
       "Puducherry                  Coconut          6.651561e+06\n",
       "Assam                       Coconut          4.886020e+06\n",
       "West Bengal                 Coconut          3.323339e+06\n",
       "Maharashtra                 Sugarcane        2.058083e+06\n",
       "Telangana                   Coconut          2.032173e+06\n",
       "Uttar Pradesh               Sugarcane        1.726391e+06\n",
       "Uttarakhand                 Sugarcane        1.301352e+06\n",
       "Karnataka                   Sugarcane        1.283198e+06\n",
       "Gujarat                     Sugarcane        9.299246e+05\n",
       "Punjab                      Wheat            8.193669e+05\n",
       "Haryana                     Wheat            5.004637e+05\n",
       "Chhattisgarh                Rice             2.791049e+05\n",
       "Rajasthan                   Wheat            2.099094e+05\n",
       "Bihar                       Sugarcane        1.949123e+05\n",
       "Madhya Pradesh              Wheat            1.830272e+05\n",
       "Tripura                     Rice             1.335626e+05\n",
       "Dadra and Nagar Haveli      Sugarcane        9.299958e+04\n",
       "Odisha                      Rice             8.905499e+04\n",
       "Himachal Pradesh            Maize            5.425944e+04\n",
       "Manipur                     Rice             3.598877e+04\n",
       "Jammu and Kashmir           Maize            3.495488e+04\n",
       "Jharkhand                   Rice             3.316041e+04\n",
       "Nagaland                    Rice             2.773574e+04\n",
       "Sikkim                      Total foodgrain  2.306175e+04\n",
       "Meghalaya                   Total foodgrain  2.157438e+04\n",
       "Mizoram                     Rice             1.211281e+04\n",
       "Arunachal Pradesh           Rice             9.924823e+03\n",
       "Chandigarh                  Wheat            3.035769e+03"
      ]
     },
     "execution_count": 164,
     "metadata": {},
     "output_type": "execute_result"
    }
   ],
   "source": [
    "b"
   ]
  },
  {
   "cell_type": "code",
   "execution_count": 168,
   "metadata": {},
   "outputs": [],
   "source": [
    "c=pd.DataFrame(df_crop.groupby(['Season','Crop'])['Production'].mean().sort_values(ascending=False).groupby(['Season']).head(1))"
   ]
  },
  {
   "cell_type": "code",
   "execution_count": 169,
   "metadata": {},
   "outputs": [
    {
     "data": {
      "text/html": [
       "<div>\n",
       "<style scoped>\n",
       "    .dataframe tbody tr th:only-of-type {\n",
       "        vertical-align: middle;\n",
       "    }\n",
       "\n",
       "    .dataframe tbody tr th {\n",
       "        vertical-align: top;\n",
       "    }\n",
       "\n",
       "    .dataframe thead th {\n",
       "        text-align: right;\n",
       "    }\n",
       "</style>\n",
       "<table border=\"1\" class=\"dataframe\">\n",
       "  <thead>\n",
       "    <tr style=\"text-align: right;\">\n",
       "      <th></th>\n",
       "      <th></th>\n",
       "      <th>Production</th>\n",
       "    </tr>\n",
       "    <tr>\n",
       "      <th>Season</th>\n",
       "      <th>Crop</th>\n",
       "      <th></th>\n",
       "    </tr>\n",
       "  </thead>\n",
       "  <tbody>\n",
       "    <tr>\n",
       "      <th>Whole Year</th>\n",
       "      <th>Coconut</th>\n",
       "      <td>6.682854e+07</td>\n",
       "    </tr>\n",
       "    <tr>\n",
       "      <th>Kharif</th>\n",
       "      <th>Sugarcane</th>\n",
       "      <td>1.531013e+06</td>\n",
       "    </tr>\n",
       "    <tr>\n",
       "      <th>Rabi</th>\n",
       "      <th>Oilseeds total</th>\n",
       "      <td>1.334167e+06</td>\n",
       "    </tr>\n",
       "    <tr>\n",
       "      <th>Winter</th>\n",
       "      <th>Rice</th>\n",
       "      <td>1.692855e+05</td>\n",
       "    </tr>\n",
       "    <tr>\n",
       "      <th>Summer</th>\n",
       "      <th>Rice</th>\n",
       "      <td>4.325975e+04</td>\n",
       "    </tr>\n",
       "    <tr>\n",
       "      <th>Autumn</th>\n",
       "      <th>Rice</th>\n",
       "      <td>2.483417e+04</td>\n",
       "    </tr>\n",
       "  </tbody>\n",
       "</table>\n",
       "</div>"
      ],
      "text/plain": [
       "                             Production\n",
       "Season     Crop                        \n",
       "Whole Year Coconut         6.682854e+07\n",
       "Kharif     Sugarcane       1.531013e+06\n",
       "Rabi       Oilseeds total  1.334167e+06\n",
       "Winter     Rice            1.692855e+05\n",
       "Summer     Rice            4.325975e+04\n",
       "Autumn     Rice            2.483417e+04"
      ]
     },
     "execution_count": 169,
     "metadata": {},
     "output_type": "execute_result"
    }
   ],
   "source": [
    "c"
   ]
  },
  {
   "cell_type": "code",
   "execution_count": 170,
   "metadata": {},
   "outputs": [],
   "source": [
    "c.reset_index(inplace=True)"
   ]
  },
  {
   "cell_type": "code",
   "execution_count": 174,
   "metadata": {},
   "outputs": [
    {
     "data": {
      "image/png": "[encoded data removed]",
      "text/plain": [
       "<Figure size 1080x432 with 1 Axes>"
      ]
     },
     "metadata": {
      "needs_background": "light"
     },
     "output_type": "display_data"
    }
   ],
   "source": [
    "plt.figure(figsize=(15,6))\n",
    "sns.barplot(x=c['Season'],y=c['Production'], hue=c['Crop'])\n",
    "plt.show()"
   ]
  },
  {
   "cell_type": "code",
   "execution_count": 175,
   "metadata": {},
   "outputs": [
    {
     "data": {
      "text/html": [
       "<div>\n",
       "<style scoped>\n",
       "    .dataframe tbody tr th:only-of-type {\n",
       "        vertical-align: middle;\n",
       "    }\n",
       "\n",
       "    .dataframe tbody tr th {\n",
       "        vertical-align: top;\n",
       "    }\n",
       "\n",
       "    .dataframe thead th {\n",
       "        text-align: right;\n",
       "    }\n",
       "</style>\n",
       "<table border=\"1\" class=\"dataframe\">\n",
       "  <thead>\n",
       "    <tr style=\"text-align: right;\">\n",
       "      <th></th>\n",
       "      <th>STATE_UT_NAME</th>\n",
       "      <th>YEAR</th>\n",
       "      <th>JAN</th>\n",
       "      <th>FEB</th>\n",
       "      <th>MAR</th>\n",
       "      <th>APR</th>\n",
       "      <th>MAY</th>\n",
       "      <th>JUN</th>\n",
       "      <th>JUL</th>\n",
       "      <th>AUG</th>\n",
       "      <th>SEP</th>\n",
       "      <th>OCT</th>\n",
       "      <th>NOV</th>\n",
       "      <th>DEC</th>\n",
       "      <th>ANNUAL</th>\n",
       "      <th>Jan-Feb</th>\n",
       "      <th>Mar-May</th>\n",
       "      <th>Jun-Sep</th>\n",
       "      <th>Oct-Dec</th>\n",
       "    </tr>\n",
       "  </thead>\n",
       "  <tbody>\n",
       "    <tr>\n",
       "      <th>0</th>\n",
       "      <td>ANDAMAN &amp; NICOBAR ISLANDS</td>\n",
       "      <td>1997</td>\n",
       "      <td>9.5</td>\n",
       "      <td>0.0</td>\n",
       "      <td>0.2</td>\n",
       "      <td>15.6</td>\n",
       "      <td>281.1</td>\n",
       "      <td>199.5</td>\n",
       "      <td>918.5</td>\n",
       "      <td>430.6</td>\n",
       "      <td>440.2</td>\n",
       "      <td>128.7</td>\n",
       "      <td>292.8</td>\n",
       "      <td>38.4</td>\n",
       "      <td>2755.1</td>\n",
       "      <td>9.5</td>\n",
       "      <td>296.9</td>\n",
       "      <td>1988.8</td>\n",
       "      <td>459.9</td>\n",
       "    </tr>\n",
       "    <tr>\n",
       "      <th>1</th>\n",
       "      <td>ANDAMAN &amp; NICOBAR ISLANDS</td>\n",
       "      <td>1998</td>\n",
       "      <td>0.9</td>\n",
       "      <td>0.0</td>\n",
       "      <td>0.0</td>\n",
       "      <td>0.0</td>\n",
       "      <td>348.9</td>\n",
       "      <td>600.0</td>\n",
       "      <td>364.5</td>\n",
       "      <td>258.9</td>\n",
       "      <td>337.8</td>\n",
       "      <td>618.6</td>\n",
       "      <td>227.8</td>\n",
       "      <td>89.0</td>\n",
       "      <td>2846.4</td>\n",
       "      <td>0.9</td>\n",
       "      <td>348.9</td>\n",
       "      <td>1561.2</td>\n",
       "      <td>935.4</td>\n",
       "    </tr>\n",
       "    <tr>\n",
       "      <th>2</th>\n",
       "      <td>ANDAMAN &amp; NICOBAR ISLANDS</td>\n",
       "      <td>1999</td>\n",
       "      <td>46.8</td>\n",
       "      <td>44.6</td>\n",
       "      <td>14.2</td>\n",
       "      <td>270.6</td>\n",
       "      <td>257.4</td>\n",
       "      <td>295.0</td>\n",
       "      <td>408.5</td>\n",
       "      <td>329.2</td>\n",
       "      <td>325.3</td>\n",
       "      <td>437.5</td>\n",
       "      <td>124.9</td>\n",
       "      <td>145.7</td>\n",
       "      <td>2699.7</td>\n",
       "      <td>91.4</td>\n",
       "      <td>542.2</td>\n",
       "      <td>1358.0</td>\n",
       "      <td>708.1</td>\n",
       "    </tr>\n",
       "    <tr>\n",
       "      <th>3</th>\n",
       "      <td>ANDAMAN &amp; NICOBAR ISLANDS</td>\n",
       "      <td>2000</td>\n",
       "      <td>53.0</td>\n",
       "      <td>59.0</td>\n",
       "      <td>171.3</td>\n",
       "      <td>218.1</td>\n",
       "      <td>422.8</td>\n",
       "      <td>357.0</td>\n",
       "      <td>176.3</td>\n",
       "      <td>460.8</td>\n",
       "      <td>250.1</td>\n",
       "      <td>321.2</td>\n",
       "      <td>158.3</td>\n",
       "      <td>115.2</td>\n",
       "      <td>2763.2</td>\n",
       "      <td>112.0</td>\n",
       "      <td>812.2</td>\n",
       "      <td>1244.2</td>\n",
       "      <td>594.7</td>\n",
       "    </tr>\n",
       "    <tr>\n",
       "      <th>4</th>\n",
       "      <td>ANDAMAN &amp; NICOBAR ISLANDS</td>\n",
       "      <td>2001</td>\n",
       "      <td>89.0</td>\n",
       "      <td>15.7</td>\n",
       "      <td>143.3</td>\n",
       "      <td>30.1</td>\n",
       "      <td>705.3</td>\n",
       "      <td>370.7</td>\n",
       "      <td>341.3</td>\n",
       "      <td>469.0</td>\n",
       "      <td>334.4</td>\n",
       "      <td>267.6</td>\n",
       "      <td>222.6</td>\n",
       "      <td>91.8</td>\n",
       "      <td>3080.9</td>\n",
       "      <td>104.7</td>\n",
       "      <td>878.7</td>\n",
       "      <td>1515.4</td>\n",
       "      <td>582.0</td>\n",
       "    </tr>\n",
       "  </tbody>\n",
       "</table>\n",
       "</div>"
      ],
      "text/plain": [
       "               STATE_UT_NAME  YEAR   JAN   FEB    MAR    APR    MAY    JUN  \\\n",
       "0  ANDAMAN & NICOBAR ISLANDS  1997   9.5   0.0    0.2   15.6  281.1  199.5   \n",
       "1  ANDAMAN & NICOBAR ISLANDS  1998   0.9   0.0    0.0    0.0  348.9  600.0   \n",
       "2  ANDAMAN & NICOBAR ISLANDS  1999  46.8  44.6   14.2  270.6  257.4  295.0   \n",
       "3  ANDAMAN & NICOBAR ISLANDS  2000  53.0  59.0  171.3  218.1  422.8  357.0   \n",
       "4  ANDAMAN & NICOBAR ISLANDS  2001  89.0  15.7  143.3   30.1  705.3  370.7   \n",
       "\n",
       "     JUL    AUG    SEP    OCT    NOV    DEC  ANNUAL  Jan-Feb  Mar-May  \\\n",
       "0  918.5  430.6  440.2  128.7  292.8   38.4  2755.1      9.5    296.9   \n",
       "1  364.5  258.9  337.8  618.6  227.8   89.0  2846.4      0.9    348.9   \n",
       "2  408.5  329.2  325.3  437.5  124.9  145.7  2699.7     91.4    542.2   \n",
       "3  176.3  460.8  250.1  321.2  158.3  115.2  2763.2    112.0    812.2   \n",
       "4  341.3  469.0  334.4  267.6  222.6   91.8  3080.9    104.7    878.7   \n",
       "\n",
       "   Jun-Sep  Oct-Dec  \n",
       "0   1988.8    459.9  \n",
       "1   1561.2    935.4  \n",
       "2   1358.0    708.1  \n",
       "3   1244.2    594.7  \n",
       "4   1515.4    582.0  "
      ]
     },
     "execution_count": 175,
     "metadata": {},
     "output_type": "execute_result"
    }
   ],
   "source": [
    "df_rainfall.head()"
   ]
  },
  {
   "cell_type": "code",
   "execution_count": 177,
   "metadata": {},
   "outputs": [
    {
     "data": {
      "text/plain": [
       "STATE_UT_NAME\n",
       "COASTAL KARNATAKA                     3036.757895\n",
       "KONKAN & GOA                          2876.936842\n",
       "SUB HIMALAYAN WEST BENGAL & SIKKIM    1985.310526\n",
       "KERALA                                1950.200000\n",
       "ANDAMAN & NICOBAR ISLANDS             1665.068421\n",
       "ARUNACHAL PRADESH                     1639.600000\n",
       "ASSAM & MEGHALAYA                     1620.426316\n",
       "NAGA MANI MIZO TRIPURA                1353.605263\n",
       "GANGETIC WEST BENGAL                  1175.373684\n",
       "ORISSA                                1163.884211\n",
       "CHHATTISGARH                          1122.473684\n",
       "UTTARAKHAND                           1069.521053\n",
       "JHARKHAND                             1007.305263\n",
       "LAKSHADWEEP                           1006.510526\n",
       "EAST MADHYA PRADESH                    981.115789\n",
       "BIHAR                                  951.563158\n",
       "VIDARBHA                               948.947368\n",
       "GUJARAT REGION                         896.794737\n",
       "WEST MADHYA PRADESH                    846.494737\n",
       "MADHYA MAHARASHTRA                     803.536842\n",
       "TELANGANA                              770.084211\n",
       "SOUTH INTERIOR KARNATAKA               722.573684\n",
       "COASTAL ANDHRA PRADESH                 684.610526\n",
       "EAST UTTAR PRADESH                     682.305263\n",
       "HIMACHAL PRADESH                       676.273684\n",
       "MATATHWADA                             631.515789\n",
       "WEST UTTAR PRADESH                     598.068421\n",
       "EAST RAJASTHAN                         550.300000\n",
       "SAURASHTRA & KUTCH                     543.184211\n",
       "JAMMU & KASHMIR                        522.822222\n",
       "NORTH INTERIOR KARNATAKA               504.789474\n",
       "RAYALSEEMA                             415.900000\n",
       "PUNJAB                                 390.805263\n",
       "HARYANA DELHI & CHANDIGARH             384.300000\n",
       "TAMIL NADU                             295.984211\n",
       "WEST RAJASTHAN                         260.878947\n",
       "Name: Jun-Sep, dtype: float64"
      ]
     },
     "execution_count": 177,
     "metadata": {},
     "output_type": "execute_result"
    }
   ],
   "source": [
    "df_rainfall.groupby('STATE_UT_NAME')['Jun-Sep'].mean().sort_values(ascending=False)"
   ]
  },
  {
   "cell_type": "code",
   "execution_count": 187,
   "metadata": {},
   "outputs": [],
   "source": [
    "d=pd.DataFrame(df_rainfall.groupby('YEAR')['ANNUAL'].mean())"
   ]
  },
  {
   "cell_type": "code",
   "execution_count": 188,
   "metadata": {},
   "outputs": [],
   "source": [
    "e=pd.DataFrame(df_crop.groupby('Crop_Year')['Production'].sum())"
   ]
  },
  {
   "cell_type": "code",
   "execution_count": null,
   "metadata": {},
   "outputs": [],
   "source": []
  },
  {
   "cell_type": "code",
   "execution_count": null,
   "metadata": {},
   "outputs": [],
   "source": []
  },
  {
   "cell_type": "code",
   "execution_count": 201,
   "metadata": {},
   "outputs": [
    {
     "data": {
      "text/plain": [
       "JAN          15.324744\n",
       "FEB          20.081406\n",
       "MAR          27.990205\n",
       "APR          44.337719\n",
       "MAY          83.702047\n",
       "JUN         224.167251\n",
       "JUL         323.907906\n",
       "AUG         278.223684\n",
       "SEP         194.161842\n",
       "OCT          94.559211\n",
       "NOV          37.011274\n",
       "DEC          16.125183\n",
       "ANNUAL     1358.468282\n",
       "Jan-Feb      35.440469\n",
       "Mar-May     156.029094\n",
       "Jun-Sep    1021.168082\n",
       "Oct-Dec     147.821816\n",
       "Name: mean, dtype: float64"
      ]
     },
     "execution_count": 201,
     "metadata": {},
     "output_type": "execute_result"
    }
   ],
   "source": [
    "df_rainfall.describe().loc['mean'][1:]"
   ]
  },
  {
   "cell_type": "code",
   "execution_count": 209,
   "metadata": {},
   "outputs": [
    {
     "data": {
      "image/png": "[encoded data removed]",
      "text/plain": [
       "<Figure size 1080x360 with 1 Axes>"
      ]
     },
     "metadata": {
      "needs_background": "light"
     },
     "output_type": "display_data"
    }
   ],
   "source": [
    "plt.figure(figsize=(15,5))\n",
    "plt.plot(df_rainfall.describe().loc['mean'][1:].loc['JAN':'DEC'])\n",
    "plt.axvline('JUL',color='red')\n",
    "plt.title(\"Average rainfall in each month of year\")\n",
    "plt.xlabel(\"Months\")\n",
    "plt.ylabel(\"Avg Rainfall\")\n",
    "plt.grid()\n",
    "plt.show()"
   ]
  },
  {
   "cell_type": "markdown",
   "metadata": {},
   "source": [
    "July receives the highest rainfall"
   ]
  },
  {
   "cell_type": "code",
   "execution_count": 211,
   "metadata": {},
   "outputs": [
    {
     "data": {
      "text/plain": [
       "YEAR\n",
       "1998    54964.0\n",
       "2007    54506.4\n",
       "2013    53106.2\n",
       "2010    52855.0\n",
       "2005    52431.5\n",
       "1997    50982.3\n",
       "2006    50646.2\n",
       "2011    50146.4\n",
       "1999    49968.8\n",
       "2008    49226.2\n",
       "2003    48760.7\n",
       "2001    46897.3\n",
       "2004    46753.2\n",
       "2000    46346.6\n",
       "2015    46101.0\n",
       "2014    44796.1\n",
       "2012    43524.5\n",
       "2009    41746.6\n",
       "2002    41357.9\n",
       "Name: ANNUAL, dtype: float64"
      ]
     },
     "execution_count": 211,
     "metadata": {},
     "output_type": "execute_result"
    }
   ],
   "source": [
    "df_rainfall.groupby(['YEAR'])['ANNUAL'].sum().sort_values(ascending=False)"
   ]
  },
  {
   "cell_type": "code",
   "execution_count": 216,
   "metadata": {},
   "outputs": [
    {
     "data": {
      "text/plain": [
       "<BarContainer object of 19 artists>"
      ]
     },
     "execution_count": 216,
     "metadata": {},
     "output_type": "execute_result"
    },
    {
     "data": {
      "image/png": "[encoded data removed]",
      "text/plain": [
       "<Figure size 432x288 with 1 Axes>"
      ]
     },
     "metadata": {
      "needs_background": "light"
     },
     "output_type": "display_data"
    }
   ],
   "source": [
    "plt.bar(df_rainfall.groupby(['YEAR'])['ANNUAL'].sum().sort_index().index, df_rainfall.groupby(['YEAR'])['ANNUAL'].sum().sort_index().values)"
   ]
  },
  {
   "cell_type": "code",
   "execution_count": 217,
   "metadata": {},
   "outputs": [
    {
     "data": {
      "text/plain": [
       "19"
      ]
     },
     "execution_count": 217,
     "metadata": {},
     "output_type": "execute_result"
    }
   ],
   "source": [
    "df_crop['Crop_Year'].nunique()"
   ]
  },
  {
   "cell_type": "code",
   "execution_count": 218,
   "metadata": {},
   "outputs": [
    {
     "data": {
      "text/plain": [
       "19"
      ]
     },
     "execution_count": 218,
     "metadata": {},
     "output_type": "execute_result"
    }
   ],
   "source": [
    "df_rainfall['YEAR'].nunique()"
   ]
  },
  {
   "cell_type": "code",
   "execution_count": 220,
   "metadata": {},
   "outputs": [
    {
     "data": {
      "text/plain": [
       "1997     8899\n",
       "1998    11533\n",
       "1999    12515\n",
       "2000    13658\n",
       "2001    13361\n",
       "2002    16671\n",
       "2003    17287\n",
       "2004    14117\n",
       "2005    13799\n",
       "2006    14328\n",
       "2007    14526\n",
       "2008    14550\n",
       "2009    14116\n",
       "2010    14065\n",
       "2011    14071\n",
       "2012    13410\n",
       "2013    13650\n",
       "2014    10973\n",
       "2015      562\n",
       "Name: Crop_Year, dtype: int64"
      ]
     },
     "execution_count": 220,
     "metadata": {},
     "output_type": "execute_result"
    }
   ],
   "source": [
    "df_crop['Crop_Year'].value_counts().sort_index()"
   ]
  },
  {
   "cell_type": "code",
   "execution_count": 221,
   "metadata": {},
   "outputs": [
    {
     "data": {
      "text/plain": [
       "1997    36\n",
       "1998    36\n",
       "1999    36\n",
       "2000    36\n",
       "2001    36\n",
       "2002    36\n",
       "2003    36\n",
       "2004    36\n",
       "2005    36\n",
       "2006    36\n",
       "2007    36\n",
       "2008    36\n",
       "2009    36\n",
       "2010    36\n",
       "2011    36\n",
       "2012    36\n",
       "2013    36\n",
       "2014    36\n",
       "2015    36\n",
       "Name: YEAR, dtype: int64"
      ]
     },
     "execution_count": 221,
     "metadata": {},
     "output_type": "execute_result"
    }
   ],
   "source": [
    "df_rainfall['YEAR'].value_counts().sort_index()"
   ]
  },
  {
   "cell_type": "code",
   "execution_count": 222,
   "metadata": {},
   "outputs": [
    {
     "data": {
      "text/plain": [
       "33"
      ]
     },
     "execution_count": 222,
     "metadata": {},
     "output_type": "execute_result"
    }
   ],
   "source": [
    "df_crop['State_Name'].nunique()"
   ]
  },
  {
   "cell_type": "code",
   "execution_count": 230,
   "metadata": {},
   "outputs": [
    {
     "data": {
      "text/plain": [
       "State_Name       0.000000\n",
       "District_Name    0.000000\n",
       "Crop_Year        0.000000\n",
       "Season           0.000000\n",
       "Crop             0.000000\n",
       "Area             0.000000\n",
       "Production       0.015157\n",
       "dtype: float64"
      ]
     },
     "execution_count": 230,
     "metadata": {},
     "output_type": "execute_result"
    }
   ],
   "source": [
    "(df_crop.isnull().sum())/len(df_crop)"
   ]
  },
  {
   "cell_type": "code",
   "execution_count": 231,
   "metadata": {},
   "outputs": [
    {
     "data": {
      "text/html": [
       "<div>\n",
       "<style scoped>\n",
       "    .dataframe tbody tr th:only-of-type {\n",
       "        vertical-align: middle;\n",
       "    }\n",
       "\n",
       "    .dataframe tbody tr th {\n",
       "        vertical-align: top;\n",
       "    }\n",
       "\n",
       "    .dataframe thead th {\n",
       "        text-align: right;\n",
       "    }\n",
       "</style>\n",
       "<table border=\"1\" class=\"dataframe\">\n",
       "  <thead>\n",
       "    <tr style=\"text-align: right;\">\n",
       "      <th></th>\n",
       "      <th>Area</th>\n",
       "      <th>Production</th>\n",
       "    </tr>\n",
       "  </thead>\n",
       "  <tbody>\n",
       "    <tr>\n",
       "      <th>Area</th>\n",
       "      <td>1.000000</td>\n",
       "      <td>0.040587</td>\n",
       "    </tr>\n",
       "    <tr>\n",
       "      <th>Production</th>\n",
       "      <td>0.040587</td>\n",
       "      <td>1.000000</td>\n",
       "    </tr>\n",
       "  </tbody>\n",
       "</table>\n",
       "</div>"
      ],
      "text/plain": [
       "                Area  Production\n",
       "Area        1.000000    0.040587\n",
       "Production  0.040587    1.000000"
      ]
     },
     "execution_count": 231,
     "metadata": {},
     "output_type": "execute_result"
    }
   ],
   "source": [
    "df_crop.corr()"
   ]
  },
  {
   "cell_type": "code",
   "execution_count": 232,
   "metadata": {},
   "outputs": [
    {
     "data": {
      "text/html": [
       "<div>\n",
       "<style scoped>\n",
       "    .dataframe tbody tr th:only-of-type {\n",
       "        vertical-align: middle;\n",
       "    }\n",
       "\n",
       "    .dataframe tbody tr th {\n",
       "        vertical-align: top;\n",
       "    }\n",
       "\n",
       "    .dataframe thead th {\n",
       "        text-align: right;\n",
       "    }\n",
       "</style>\n",
       "<table border=\"1\" class=\"dataframe\">\n",
       "  <thead>\n",
       "    <tr style=\"text-align: right;\">\n",
       "      <th></th>\n",
       "      <th>Area</th>\n",
       "      <th>Production</th>\n",
       "    </tr>\n",
       "  </thead>\n",
       "  <tbody>\n",
       "    <tr>\n",
       "      <th>count</th>\n",
       "      <td>2.460910e+05</td>\n",
       "      <td>2.423610e+05</td>\n",
       "    </tr>\n",
       "    <tr>\n",
       "      <th>mean</th>\n",
       "      <td>1.200282e+04</td>\n",
       "      <td>5.825034e+05</td>\n",
       "    </tr>\n",
       "    <tr>\n",
       "      <th>std</th>\n",
       "      <td>5.052340e+04</td>\n",
       "      <td>1.706581e+07</td>\n",
       "    </tr>\n",
       "    <tr>\n",
       "      <th>min</th>\n",
       "      <td>4.000000e-02</td>\n",
       "      <td>0.000000e+00</td>\n",
       "    </tr>\n",
       "    <tr>\n",
       "      <th>25%</th>\n",
       "      <td>8.000000e+01</td>\n",
       "      <td>8.800000e+01</td>\n",
       "    </tr>\n",
       "    <tr>\n",
       "      <th>50%</th>\n",
       "      <td>5.820000e+02</td>\n",
       "      <td>7.290000e+02</td>\n",
       "    </tr>\n",
       "    <tr>\n",
       "      <th>75%</th>\n",
       "      <td>4.392000e+03</td>\n",
       "      <td>7.023000e+03</td>\n",
       "    </tr>\n",
       "    <tr>\n",
       "      <th>max</th>\n",
       "      <td>8.580100e+06</td>\n",
       "      <td>1.250800e+09</td>\n",
       "    </tr>\n",
       "  </tbody>\n",
       "</table>\n",
       "</div>"
      ],
      "text/plain": [
       "               Area    Production\n",
       "count  2.460910e+05  2.423610e+05\n",
       "mean   1.200282e+04  5.825034e+05\n",
       "std    5.052340e+04  1.706581e+07\n",
       "min    4.000000e-02  0.000000e+00\n",
       "25%    8.000000e+01  8.800000e+01\n",
       "50%    5.820000e+02  7.290000e+02\n",
       "75%    4.392000e+03  7.023000e+03\n",
       "max    8.580100e+06  1.250800e+09"
      ]
     },
     "execution_count": 232,
     "metadata": {},
     "output_type": "execute_result"
    }
   ],
   "source": [
    "df_crop.describe()"
   ]
  },
  {
   "cell_type": "code",
   "execution_count": 236,
   "metadata": {},
   "outputs": [
    {
     "data": {
      "text/plain": [
       "582503.4422509839"
      ]
     },
     "execution_count": 236,
     "metadata": {},
     "output_type": "execute_result"
    }
   ],
   "source": [
    "df_crop['Production'].mean()"
   ]
  },
  {
   "cell_type": "code",
   "execution_count": 237,
   "metadata": {},
   "outputs": [
    {
     "data": {
      "text/plain": [
       "0.0"
      ]
     },
     "execution_count": 237,
     "metadata": {},
     "output_type": "execute_result"
    }
   ],
   "source": [
    "df_crop['Production'].min()"
   ]
  },
  {
   "cell_type": "code",
   "execution_count": 238,
   "metadata": {},
   "outputs": [
    {
     "data": {
      "text/plain": [
       "1250800000.0"
      ]
     },
     "execution_count": 238,
     "metadata": {},
     "output_type": "execute_result"
    }
   ],
   "source": [
    "df_crop['Production'].max()"
   ]
  },
  {
   "cell_type": "code",
   "execution_count": 239,
   "metadata": {},
   "outputs": [
    {
     "data": {
      "text/plain": [
       "36"
      ]
     },
     "execution_count": 239,
     "metadata": {},
     "output_type": "execute_result"
    }
   ],
   "source": [
    "df_rainfall['STATE_UT_NAME'].nunique()"
   ]
  },
  {
   "cell_type": "code",
   "execution_count": 240,
   "metadata": {},
   "outputs": [
    {
     "data": {
      "text/html": [
       "<div>\n",
       "<style scoped>\n",
       "    .dataframe tbody tr th:only-of-type {\n",
       "        vertical-align: middle;\n",
       "    }\n",
       "\n",
       "    .dataframe tbody tr th {\n",
       "        vertical-align: top;\n",
       "    }\n",
       "\n",
       "    .dataframe thead th {\n",
       "        text-align: right;\n",
       "    }\n",
       "</style>\n",
       "<table border=\"1\" class=\"dataframe\">\n",
       "  <thead>\n",
       "    <tr style=\"text-align: right;\">\n",
       "      <th></th>\n",
       "      <th>YEAR</th>\n",
       "      <th>JAN</th>\n",
       "      <th>FEB</th>\n",
       "      <th>MAR</th>\n",
       "      <th>APR</th>\n",
       "      <th>MAY</th>\n",
       "      <th>JUN</th>\n",
       "      <th>JUL</th>\n",
       "      <th>AUG</th>\n",
       "      <th>SEP</th>\n",
       "      <th>OCT</th>\n",
       "      <th>NOV</th>\n",
       "      <th>DEC</th>\n",
       "      <th>ANNUAL</th>\n",
       "      <th>Jan-Feb</th>\n",
       "      <th>Mar-May</th>\n",
       "      <th>Jun-Sep</th>\n",
       "      <th>Oct-Dec</th>\n",
       "    </tr>\n",
       "  </thead>\n",
       "  <tbody>\n",
       "    <tr>\n",
       "      <th>count</th>\n",
       "      <td>684.000000</td>\n",
       "      <td>683.000000</td>\n",
       "      <td>683.000000</td>\n",
       "      <td>684.000000</td>\n",
       "      <td>684.000000</td>\n",
       "      <td>684.000000</td>\n",
       "      <td>684.000000</td>\n",
       "      <td>683.000000</td>\n",
       "      <td>684.000000</td>\n",
       "      <td>684.000000</td>\n",
       "      <td>684.000000</td>\n",
       "      <td>683.000000</td>\n",
       "      <td>683.000000</td>\n",
       "      <td>681.000000</td>\n",
       "      <td>682.000000</td>\n",
       "      <td>684.000000</td>\n",
       "      <td>683.000000</td>\n",
       "      <td>683.000000</td>\n",
       "    </tr>\n",
       "    <tr>\n",
       "      <th>mean</th>\n",
       "      <td>2006.000000</td>\n",
       "      <td>15.324744</td>\n",
       "      <td>20.081406</td>\n",
       "      <td>27.990205</td>\n",
       "      <td>44.337719</td>\n",
       "      <td>83.702047</td>\n",
       "      <td>224.167251</td>\n",
       "      <td>323.907906</td>\n",
       "      <td>278.223684</td>\n",
       "      <td>194.161842</td>\n",
       "      <td>94.559211</td>\n",
       "      <td>37.011274</td>\n",
       "      <td>16.125183</td>\n",
       "      <td>1358.468282</td>\n",
       "      <td>35.440469</td>\n",
       "      <td>156.029094</td>\n",
       "      <td>1021.168082</td>\n",
       "      <td>147.821816</td>\n",
       "    </tr>\n",
       "    <tr>\n",
       "      <th>std</th>\n",
       "      <td>5.481234</td>\n",
       "      <td>29.561050</td>\n",
       "      <td>37.549833</td>\n",
       "      <td>45.112550</td>\n",
       "      <td>65.636447</td>\n",
       "      <td>111.126414</td>\n",
       "      <td>213.545202</td>\n",
       "      <td>254.371826</td>\n",
       "      <td>179.102286</td>\n",
       "      <td>129.452085</td>\n",
       "      <td>99.612144</td>\n",
       "      <td>66.622180</td>\n",
       "      <td>34.820641</td>\n",
       "      <td>856.274824</td>\n",
       "      <td>59.384077</td>\n",
       "      <td>186.031556</td>\n",
       "      <td>677.940309</td>\n",
       "      <td>166.703722</td>\n",
       "    </tr>\n",
       "    <tr>\n",
       "      <th>min</th>\n",
       "      <td>1997.000000</td>\n",
       "      <td>0.000000</td>\n",
       "      <td>0.000000</td>\n",
       "      <td>0.000000</td>\n",
       "      <td>0.000000</td>\n",
       "      <td>0.000000</td>\n",
       "      <td>4.000000</td>\n",
       "      <td>2.400000</td>\n",
       "      <td>10.600000</td>\n",
       "      <td>2.800000</td>\n",
       "      <td>0.000000</td>\n",
       "      <td>0.000000</td>\n",
       "      <td>0.000000</td>\n",
       "      <td>92.400000</td>\n",
       "      <td>0.000000</td>\n",
       "      <td>0.000000</td>\n",
       "      <td>67.200000</td>\n",
       "      <td>0.000000</td>\n",
       "    </tr>\n",
       "    <tr>\n",
       "      <th>25%</th>\n",
       "      <td>2001.000000</td>\n",
       "      <td>0.500000</td>\n",
       "      <td>0.500000</td>\n",
       "      <td>0.900000</td>\n",
       "      <td>3.200000</td>\n",
       "      <td>9.300000</td>\n",
       "      <td>72.150000</td>\n",
       "      <td>155.600000</td>\n",
       "      <td>152.200000</td>\n",
       "      <td>99.150000</td>\n",
       "      <td>16.275000</td>\n",
       "      <td>0.900000</td>\n",
       "      <td>0.100000</td>\n",
       "      <td>748.400000</td>\n",
       "      <td>3.000000</td>\n",
       "      <td>25.375000</td>\n",
       "      <td>554.300000</td>\n",
       "      <td>28.250000</td>\n",
       "    </tr>\n",
       "    <tr>\n",
       "      <th>50%</th>\n",
       "      <td>2006.000000</td>\n",
       "      <td>3.900000</td>\n",
       "      <td>5.700000</td>\n",
       "      <td>8.050000</td>\n",
       "      <td>18.250000</td>\n",
       "      <td>38.900000</td>\n",
       "      <td>148.000000</td>\n",
       "      <td>269.200000</td>\n",
       "      <td>248.300000</td>\n",
       "      <td>166.000000</td>\n",
       "      <td>62.400000</td>\n",
       "      <td>8.000000</td>\n",
       "      <td>2.300000</td>\n",
       "      <td>1093.000000</td>\n",
       "      <td>15.250000</td>\n",
       "      <td>81.000000</td>\n",
       "      <td>854.800000</td>\n",
       "      <td>90.500000</td>\n",
       "    </tr>\n",
       "    <tr>\n",
       "      <th>75%</th>\n",
       "      <td>2011.000000</td>\n",
       "      <td>17.450000</td>\n",
       "      <td>21.750000</td>\n",
       "      <td>32.300000</td>\n",
       "      <td>54.100000</td>\n",
       "      <td>98.225000</td>\n",
       "      <td>295.400000</td>\n",
       "      <td>399.550000</td>\n",
       "      <td>352.425000</td>\n",
       "      <td>259.300000</td>\n",
       "      <td>145.075000</td>\n",
       "      <td>40.750000</td>\n",
       "      <td>14.050000</td>\n",
       "      <td>1648.200000</td>\n",
       "      <td>42.200000</td>\n",
       "      <td>219.500000</td>\n",
       "      <td>1259.900000</td>\n",
       "      <td>205.600000</td>\n",
       "    </tr>\n",
       "    <tr>\n",
       "      <th>max</th>\n",
       "      <td>2015.000000</td>\n",
       "      <td>296.000000</td>\n",
       "      <td>403.500000</td>\n",
       "      <td>341.400000</td>\n",
       "      <td>466.900000</td>\n",
       "      <td>705.300000</td>\n",
       "      <td>1153.000000</td>\n",
       "      <td>1778.900000</td>\n",
       "      <td>1146.000000</td>\n",
       "      <td>868.900000</td>\n",
       "      <td>618.600000</td>\n",
       "      <td>383.800000</td>\n",
       "      <td>283.900000</td>\n",
       "      <td>4229.400000</td>\n",
       "      <td>699.500000</td>\n",
       "      <td>1017.500000</td>\n",
       "      <td>3727.600000</td>\n",
       "      <td>935.400000</td>\n",
       "    </tr>\n",
       "  </tbody>\n",
       "</table>\n",
       "</div>"
      ],
      "text/plain": [
       "              YEAR         JAN         FEB         MAR         APR  \\\n",
       "count   684.000000  683.000000  683.000000  684.000000  684.000000   \n",
       "mean   2006.000000   15.324744   20.081406   27.990205   44.337719   \n",
       "std       5.481234   29.561050   37.549833   45.112550   65.636447   \n",
       "min    1997.000000    0.000000    0.000000    0.000000    0.000000   \n",
       "25%    2001.000000    0.500000    0.500000    0.900000    3.200000   \n",
       "50%    2006.000000    3.900000    5.700000    8.050000   18.250000   \n",
       "75%    2011.000000   17.450000   21.750000   32.300000   54.100000   \n",
       "max    2015.000000  296.000000  403.500000  341.400000  466.900000   \n",
       "\n",
       "              MAY          JUN          JUL          AUG         SEP  \\\n",
       "count  684.000000   684.000000   683.000000   684.000000  684.000000   \n",
       "mean    83.702047   224.167251   323.907906   278.223684  194.161842   \n",
       "std    111.126414   213.545202   254.371826   179.102286  129.452085   \n",
       "min      0.000000     4.000000     2.400000    10.600000    2.800000   \n",
       "25%      9.300000    72.150000   155.600000   152.200000   99.150000   \n",
       "50%     38.900000   148.000000   269.200000   248.300000  166.000000   \n",
       "75%     98.225000   295.400000   399.550000   352.425000  259.300000   \n",
       "max    705.300000  1153.000000  1778.900000  1146.000000  868.900000   \n",
       "\n",
       "              OCT         NOV         DEC       ANNUAL     Jan-Feb  \\\n",
       "count  684.000000  683.000000  683.000000   681.000000  682.000000   \n",
       "mean    94.559211   37.011274   16.125183  1358.468282   35.440469   \n",
       "std     99.612144   66.622180   34.820641   856.274824   59.384077   \n",
       "min      0.000000    0.000000    0.000000    92.400000    0.000000   \n",
       "25%     16.275000    0.900000    0.100000   748.400000    3.000000   \n",
       "50%     62.400000    8.000000    2.300000  1093.000000   15.250000   \n",
       "75%    145.075000   40.750000   14.050000  1648.200000   42.200000   \n",
       "max    618.600000  383.800000  283.900000  4229.400000  699.500000   \n",
       "\n",
       "           Mar-May      Jun-Sep     Oct-Dec  \n",
       "count   684.000000   683.000000  683.000000  \n",
       "mean    156.029094  1021.168082  147.821816  \n",
       "std     186.031556   677.940309  166.703722  \n",
       "min       0.000000    67.200000    0.000000  \n",
       "25%      25.375000   554.300000   28.250000  \n",
       "50%      81.000000   854.800000   90.500000  \n",
       "75%     219.500000  1259.900000  205.600000  \n",
       "max    1017.500000  3727.600000  935.400000  "
      ]
     },
     "execution_count": 240,
     "metadata": {},
     "output_type": "execute_result"
    }
   ],
   "source": [
    "df_rainfall.describe()"
   ]
  },
  {
   "cell_type": "code",
   "execution_count": null,
   "metadata": {},
   "outputs": [],
   "source": []
  }
 ],
 "metadata": {
  "kernelspec": {
   "display_name": "Python 3",
   "language": "python",
   "name": "python3"
  },
  "language_info": {
   "codemirror_mode": {
    "name": "ipython",
    "version": 3
   },
   "file_extension": ".py",
   "mimetype": "text/x-python",
   "name": "python",
   "nbconvert_exporter": "python",
   "pygments_lexer": "ipython3",
   "version": "3.8.5"
  }
 },
 "nbformat": 4,
 "nbformat_minor": 4
}
